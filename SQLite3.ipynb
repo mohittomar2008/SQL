{
 "cells": [
  {
   "cell_type": "markdown",
   "id": "69a3e532",
   "metadata": {},
   "source": [
    "# SQLite"
   ]
  },
  {
   "cell_type": "code",
   "execution_count": 2,
   "id": "c89d94cf",
   "metadata": {},
   "outputs": [],
   "source": [
    "import sqlite3"
   ]
  },
  {
   "cell_type": "code",
   "execution_count": 4,
   "id": "55f7d1f4",
   "metadata": {},
   "outputs": [],
   "source": [
    "db=sqlite3.connect(\"C:/Users/Bank of America/Data Science/SQLite/student_database.db\")"
   ]
  },
  {
   "cell_type": "code",
   "execution_count": 5,
   "id": "d5203a7e",
   "metadata": {},
   "outputs": [],
   "source": [
    "cur=db.cursor()"
   ]
  },
  {
   "cell_type": "code",
   "execution_count": 6,
   "id": "00a800ac",
   "metadata": {},
   "outputs": [
    {
     "data": {
      "text/plain": [
       "<sqlite3.Cursor at 0x74a1a40>"
      ]
     },
     "execution_count": 6,
     "metadata": {},
     "output_type": "execute_result"
    }
   ],
   "source": [
    "cur.execute('create table student (id int primary key,name text, section text, marks int)')"
   ]
  },
  {
   "cell_type": "code",
   "execution_count": 8,
   "id": "ae269f06",
   "metadata": {},
   "outputs": [
    {
     "data": {
      "text/plain": [
       "<sqlite3.Cursor at 0x74a1a40>"
      ]
     },
     "execution_count": 8,
     "metadata": {},
     "output_type": "execute_result"
    }
   ],
   "source": [
    "cur.execute(\"insert into student (id,name,section,marks) values (1,'Mohit','A',65)\")"
   ]
  },
  {
   "cell_type": "code",
   "execution_count": 9,
   "id": "4027de9d",
   "metadata": {},
   "outputs": [
    {
     "data": {
      "text/plain": [
       "<function Connection.commit>"
      ]
     },
     "execution_count": 9,
     "metadata": {},
     "output_type": "execute_result"
    }
   ],
   "source": [
    "db.commit"
   ]
  },
  {
   "cell_type": "code",
   "execution_count": 10,
   "id": "e602636a",
   "metadata": {},
   "outputs": [
    {
     "name": "stdout",
     "output_type": "stream",
     "text": [
      "1\n"
     ]
    }
   ],
   "source": [
    "print(cur.rowcount)"
   ]
  },
  {
   "cell_type": "code",
   "execution_count": 13,
   "id": "9e53d68a",
   "metadata": {},
   "outputs": [
    {
     "data": {
      "text/plain": [
       "<sqlite3.Cursor at 0x74a1a40>"
      ]
     },
     "execution_count": 13,
     "metadata": {},
     "output_type": "execute_result"
    }
   ],
   "source": [
    "cur.execute(\"insert into student (id,name,section,marks) values (2,'Swati','B',70)\")"
   ]
  },
  {
   "cell_type": "code",
   "execution_count": 14,
   "id": "216a8d26",
   "metadata": {},
   "outputs": [
    {
     "data": {
      "text/plain": [
       "<sqlite3.Cursor at 0x74a1a40>"
      ]
     },
     "execution_count": 14,
     "metadata": {},
     "output_type": "execute_result"
    }
   ],
   "source": [
    "cur.execute(\"insert into student (id,name,section,marks) values (3,'Monika','C',75)\")"
   ]
  },
  {
   "cell_type": "code",
   "execution_count": 18,
   "id": "085a9858",
   "metadata": {},
   "outputs": [
    {
     "data": {
      "text/plain": [
       "1"
      ]
     },
     "execution_count": 18,
     "metadata": {},
     "output_type": "execute_result"
    }
   ],
   "source": [
    "cur.rowcount"
   ]
  },
  {
   "cell_type": "code",
   "execution_count": 19,
   "id": "fffa9b27",
   "metadata": {},
   "outputs": [
    {
     "data": {
      "text/plain": [
       "<function Connection.commit>"
      ]
     },
     "execution_count": 19,
     "metadata": {},
     "output_type": "execute_result"
    }
   ],
   "source": [
    "db.commit"
   ]
  },
  {
   "cell_type": "code",
   "execution_count": 21,
   "id": "6947d564",
   "metadata": {},
   "outputs": [
    {
     "name": "stdout",
     "output_type": "stream",
     "text": [
      "1\n"
     ]
    }
   ],
   "source": [
    "print(cur.rowcount)"
   ]
  },
  {
   "cell_type": "code",
   "execution_count": 28,
   "id": "3d7bc59e",
   "metadata": {},
   "outputs": [],
   "source": [
    "result=cur.execute(\"select * from student\")"
   ]
  },
  {
   "cell_type": "code",
   "execution_count": 29,
   "id": "db4cb53a",
   "metadata": {},
   "outputs": [
    {
     "name": "stdout",
     "output_type": "stream",
     "text": [
      "(1, 'Mohit', 'A', 65)\n",
      "(2, 'Swati', 'B', 70)\n",
      "(3, 'Monika', 'C', 75)\n"
     ]
    }
   ],
   "source": [
    "for row in result:\n",
    "    print(row)"
   ]
  },
  {
   "cell_type": "code",
   "execution_count": 34,
   "id": "2af3da8f",
   "metadata": {},
   "outputs": [
    {
     "name": "stdout",
     "output_type": "stream",
     "text": [
      "(1, 'Mohit', 'A', 65)\n",
      "(2, 'Swati', 'B', 70)\n",
      "(3, 'Monika', 'C', 75)\n",
      "(4, 'Rakesh', 'C', 90)\n",
      "(5, 'Ajay', 'A', 89)\n"
     ]
    }
   ],
   "source": [
    "for row in (cur.execute(\"select * from student\")):\n",
    "    print(row)"
   ]
  },
  {
   "cell_type": "code",
   "execution_count": 35,
   "id": "1f2d300d",
   "metadata": {},
   "outputs": [
    {
     "name": "stdout",
     "output_type": "stream",
     "text": [
      "-1\n"
     ]
    }
   ],
   "source": [
    "print(cur.rowcount)"
   ]
  },
  {
   "cell_type": "code",
   "execution_count": 31,
   "id": "99fdae0f",
   "metadata": {},
   "outputs": [],
   "source": [
    "# Next Class"
   ]
  },
  {
   "cell_type": "code",
   "execution_count": 32,
   "id": "35bf129e",
   "metadata": {},
   "outputs": [
    {
     "data": {
      "text/plain": [
       "<sqlite3.Cursor at 0x74a1a40>"
      ]
     },
     "execution_count": 32,
     "metadata": {},
     "output_type": "execute_result"
    }
   ],
   "source": [
    "cur.execute(\"insert into student values (4,'Rakesh','C',90)\")"
   ]
  },
  {
   "cell_type": "code",
   "execution_count": 33,
   "id": "d940d578",
   "metadata": {},
   "outputs": [
    {
     "data": {
      "text/plain": [
       "<sqlite3.Cursor at 0x74a1a40>"
      ]
     },
     "execution_count": 33,
     "metadata": {},
     "output_type": "execute_result"
    }
   ],
   "source": [
    "cur.execute(\"insert into student values (5,'Ajay','A',89)\")"
   ]
  },
  {
   "cell_type": "code",
   "execution_count": 36,
   "id": "a13676a0",
   "metadata": {},
   "outputs": [
    {
     "data": {
      "text/plain": [
       "<sqlite3.Cursor at 0x74a1a40>"
      ]
     },
     "execution_count": 36,
     "metadata": {},
     "output_type": "execute_result"
    }
   ],
   "source": [
    "cur.execute(\"create table employee(id int,name text,age int)\")"
   ]
  },
  {
   "cell_type": "code",
   "execution_count": 37,
   "id": "dd4fd2a9",
   "metadata": {},
   "outputs": [
    {
     "name": "stdout",
     "output_type": "stream",
     "text": [
      "(1, 'Mohit', 'A', 65)\n",
      "(2, 'Swati', 'B', 70)\n",
      "(3, 'Monika', 'C', 75)\n",
      "(4, 'Rakesh', 'C', 90)\n",
      "(5, 'Ajay', 'A', 89)\n"
     ]
    }
   ],
   "source": [
    "for row in (cur.execute(\"select * from student\")):\n",
    "    print(row)"
   ]
  },
  {
   "cell_type": "code",
   "execution_count": 38,
   "id": "f391fc86",
   "metadata": {},
   "outputs": [
    {
     "name": "stdout",
     "output_type": "stream",
     "text": [
      "(1, 'Mohit')\n",
      "(2, 'Swati')\n",
      "(3, 'Monika')\n",
      "(4, 'Rakesh')\n",
      "(5, 'Ajay')\n"
     ]
    }
   ],
   "source": [
    "for row in (cur.execute(\"select id,name from student\")):\n",
    "    print(row)"
   ]
  },
  {
   "cell_type": "code",
   "execution_count": 39,
   "id": "9b80bdf7",
   "metadata": {},
   "outputs": [
    {
     "name": "stdout",
     "output_type": "stream",
     "text": [
      "(1, 65)\n",
      "(2, 70)\n",
      "(3, 75)\n",
      "(4, 90)\n",
      "(5, 89)\n"
     ]
    }
   ],
   "source": [
    "for row in (cur.execute(\"select id,marks from student\")):\n",
    "    print(row)"
   ]
  },
  {
   "cell_type": "code",
   "execution_count": 41,
   "id": "e65d7313",
   "metadata": {},
   "outputs": [
    {
     "name": "stdout",
     "output_type": "stream",
     "text": [
      "(2, 'Swati', 'B', 70)\n"
     ]
    }
   ],
   "source": [
    "for row in (cur.execute(\"select * from student where id=2\")):\n",
    "    print(row)"
   ]
  },
  {
   "cell_type": "code",
   "execution_count": 75,
   "id": "ea8a2db4",
   "metadata": {},
   "outputs": [
    {
     "name": "stdout",
     "output_type": "stream",
     "text": [
      "(2, 'Swati', 'B', 70)\n",
      "(4, 'Rakesh', 'C', 90)\n",
      "(3, 'Monika', 'C', 75)\n",
      "(1, 'Mohit', 'A', 65)\n",
      "(5, 'Ajay', 'A', 89)\n"
     ]
    }
   ],
   "source": [
    "for row in (cur.execute(\"select * from student order by name desc\")):\n",
    "    print(row)"
   ]
  },
  {
   "cell_type": "code",
   "execution_count": 46,
   "id": "5610b018",
   "metadata": {},
   "outputs": [
    {
     "name": "stdout",
     "output_type": "stream",
     "text": [
      "(1, 'Mohit', 'A', 65)\n",
      "(2, 'Swati', 'B', 70)\n"
     ]
    }
   ],
   "source": [
    "for row in (cur.execute(\"select * from student limit 2\")):\n",
    "    print(row)"
   ]
  },
  {
   "cell_type": "code",
   "execution_count": 54,
   "id": "a81eda59",
   "metadata": {},
   "outputs": [
    {
     "name": "stdout",
     "output_type": "stream",
     "text": [
      "(1, 'Mohit', 'A', 65)\n"
     ]
    }
   ],
   "source": [
    "for row in (cur.execute(\"select * from student where name='Mohit'\")):\n",
    "    print(row)"
   ]
  },
  {
   "cell_type": "code",
   "execution_count": 60,
   "id": "06eb93df",
   "metadata": {},
   "outputs": [
    {
     "name": "stdout",
     "output_type": "stream",
     "text": [
      "(4, 'Rakesh', 'C', 90)\n",
      "(5, 'Ajay', 'A', 89)\n"
     ]
    }
   ],
   "source": [
    "for row in (cur.execute(\"select * from student where marks<99 and marks>85\")):\n",
    "    print(row)"
   ]
  },
  {
   "cell_type": "code",
   "execution_count": 61,
   "id": "2f9158a3",
   "metadata": {},
   "outputs": [
    {
     "name": "stdout",
     "output_type": "stream",
     "text": [
      "(3, 'Monika', 'C', 75)\n"
     ]
    }
   ],
   "source": [
    "for row in (cur.execute(\"select * from student where id <4 and id>2\")):\n",
    "    print(row)"
   ]
  },
  {
   "cell_type": "code",
   "execution_count": 66,
   "id": "5857ca40",
   "metadata": {},
   "outputs": [
    {
     "name": "stdout",
     "output_type": "stream",
     "text": [
      "(70,)\n"
     ]
    }
   ],
   "source": [
    "for row in (cur.execute(\"select marks from student where name ='Swati'\")):\n",
    "    print(row)"
   ]
  },
  {
   "cell_type": "code",
   "execution_count": 70,
   "id": "7ef1abe2",
   "metadata": {},
   "outputs": [
    {
     "name": "stdout",
     "output_type": "stream",
     "text": [
      "(3, 'Monika', 'C', 75)\n",
      "(4, 'Rakesh', 'C', 90)\n"
     ]
    }
   ],
   "source": [
    "for row in (cur.execute(\"select * from student where id=3 or marks=90\")):\n",
    "    print(row)"
   ]
  },
  {
   "cell_type": "code",
   "execution_count": null,
   "id": "c42f2dbe",
   "metadata": {},
   "outputs": [],
   "source": [
    "for row in (cur.execute(\"select * from student\")):\n",
    "    print(row)"
   ]
  },
  {
   "cell_type": "code",
   "execution_count": 77,
   "id": "866c6892",
   "metadata": {},
   "outputs": [
    {
     "data": {
      "text/plain": [
       "[(1, 'Mohit', 'A', 65),\n",
       " (2, 'Swati', 'B', 70),\n",
       " (3, 'Monika', 'C', 75),\n",
       " (4, 'Rakesh', 'C', 90),\n",
       " (5, 'Ajay', 'A', 89)]"
      ]
     },
     "execution_count": 77,
     "metadata": {},
     "output_type": "execute_result"
    }
   ],
   "source": [
    "# fetchall wl display all rows\n",
    "\n",
    "results= cur.execute('select * from student')\n",
    "results.fetchall()"
   ]
  },
  {
   "cell_type": "code",
   "execution_count": 79,
   "id": "59913c73",
   "metadata": {},
   "outputs": [
    {
     "name": "stdout",
     "output_type": "stream",
     "text": [
      "(1, 'Mohit', 'A', 65)\n",
      "(2, 'Swati', 'B', 70)\n",
      "(3, 'Monika', 'C', 75)\n",
      "(4, 'Rakesh', 'C', 90)\n",
      "(5, 'Ajay', 'A', 89)\n"
     ]
    }
   ],
   "source": [
    "for row in (cur.execute(\"select * from student where marks is not null\")):\n",
    "    print(row)"
   ]
  },
  {
   "cell_type": "code",
   "execution_count": 80,
   "id": "e59f199a",
   "metadata": {},
   "outputs": [
    {
     "name": "stdout",
     "output_type": "stream",
     "text": [
      "(1, 'Mohit', 'A', 65)\n",
      "(3, 'Monika', 'C', 75)\n"
     ]
    }
   ],
   "source": [
    "for row in (cur.execute(\"select * from student where name like 'M%'\")):\n",
    "    print(row)"
   ]
  },
  {
   "cell_type": "code",
   "execution_count": 81,
   "id": "f585a311",
   "metadata": {},
   "outputs": [
    {
     "name": "stdout",
     "output_type": "stream",
     "text": [
      "(65,)\n"
     ]
    }
   ],
   "source": [
    "for row in (cur.execute(\"select min(marks) from student\")):\n",
    "    print(row)"
   ]
  },
  {
   "cell_type": "code",
   "execution_count": 82,
   "id": "56887d1a",
   "metadata": {},
   "outputs": [
    {
     "name": "stdout",
     "output_type": "stream",
     "text": [
      "(90,)\n"
     ]
    }
   ],
   "source": [
    "for row in (cur.execute(\"select max(marks) from student\")):\n",
    "    print(row)"
   ]
  },
  {
   "cell_type": "code",
   "execution_count": 83,
   "id": "15c2a660",
   "metadata": {},
   "outputs": [
    {
     "name": "stdout",
     "output_type": "stream",
     "text": [
      "(77.8,)\n"
     ]
    }
   ],
   "source": [
    "for row in (cur.execute(\"select avg(marks) from student\")):\n",
    "    print(row)"
   ]
  },
  {
   "cell_type": "code",
   "execution_count": 84,
   "id": "ebdbf890",
   "metadata": {},
   "outputs": [
    {
     "name": "stdout",
     "output_type": "stream",
     "text": [
      "(389,)\n"
     ]
    }
   ],
   "source": [
    "for row in (cur.execute(\"select sum(marks) from student\")):\n",
    "    print(row)"
   ]
  },
  {
   "cell_type": "code",
   "execution_count": 88,
   "id": "fa7d6f4e",
   "metadata": {},
   "outputs": [
    {
     "name": "stdout",
     "output_type": "stream",
     "text": [
      "(5,)\n"
     ]
    }
   ],
   "source": [
    "for row in (cur.execute(\"select count() from student\")):\n",
    "    print(row)"
   ]
  },
  {
   "cell_type": "code",
   "execution_count": 89,
   "id": "05a53776",
   "metadata": {},
   "outputs": [
    {
     "name": "stdout",
     "output_type": "stream",
     "text": [
      "(1,)\n",
      "(2,)\n",
      "(3,)\n",
      "(4,)\n",
      "(5,)\n"
     ]
    }
   ],
   "source": [
    "for row in (cur.execute(\"select min(id,marks) from student\")):\n",
    "    print(row)"
   ]
  },
  {
   "cell_type": "code",
   "execution_count": 91,
   "id": "92ccc228",
   "metadata": {},
   "outputs": [
    {
     "data": {
      "text/plain": [
       "[(5,)]"
      ]
     },
     "execution_count": 91,
     "metadata": {},
     "output_type": "execute_result"
    }
   ],
   "source": [
    "results=cur.execute(\"select count() from student\")\n",
    "results.fetchall()"
   ]
  },
  {
   "cell_type": "code",
   "execution_count": 92,
   "id": "bc5d35ed",
   "metadata": {},
   "outputs": [
    {
     "name": "stdout",
     "output_type": "stream",
     "text": [
      "(4, 'Rakesh', 'C', 90)\n",
      "(5, 'Ajay', 'A', 89)\n"
     ]
    }
   ],
   "source": [
    "for row in (cur.execute(\"select * from student where marks between 80 and 90\")):\n",
    "    print(row)"
   ]
  },
  {
   "cell_type": "code",
   "execution_count": 94,
   "id": "0f2c70ab",
   "metadata": {},
   "outputs": [
    {
     "name": "stdout",
     "output_type": "stream",
     "text": [
      "(2, 'Swati', 'B', 70)\n"
     ]
    }
   ],
   "source": [
    "for row in (cur.execute(\"select * from student where name like '___t%'\")):\n",
    "    print(row)"
   ]
  },
  {
   "cell_type": "code",
   "execution_count": 95,
   "id": "8ff4a493",
   "metadata": {},
   "outputs": [
    {
     "name": "stdout",
     "output_type": "stream",
     "text": [
      "(1, 'Mohit', 'A', 65)\n",
      "(2, 'Swati', 'B', 70)\n"
     ]
    }
   ],
   "source": [
    "for row in (cur.execute(\"select * from student where name like '_____'\")):\n",
    "    print(row)"
   ]
  },
  {
   "cell_type": "code",
   "execution_count": 98,
   "id": "6ab69dba",
   "metadata": {},
   "outputs": [
    {
     "name": "stdout",
     "output_type": "stream",
     "text": [
      "(1, 'Mohit', 'A', 65)\n",
      "(2, 'Swati', 'B', 70)\n",
      "(3, 'Monika', 'C', 75)\n",
      "(5, 'Ajay', 'A', 89)\n"
     ]
    }
   ],
   "source": [
    "for row in (cur.execute(\"select * from student where marks not in (90)\")):\n",
    "    print(row)"
   ]
  },
  {
   "cell_type": "code",
   "execution_count": 99,
   "id": "6e307777",
   "metadata": {},
   "outputs": [
    {
     "name": "stdout",
     "output_type": "stream",
     "text": [
      "(2, 'Swati', 'B', 70)\n",
      "(3, 'Monika', 'C', 75)\n",
      "(4, 'Rakesh', 'C', 90)\n",
      "(5, 'Ajay', 'A', 89)\n"
     ]
    }
   ],
   "source": [
    "for row in (cur.execute(\"select * from student where name not in ('Mohit')\")):\n",
    "    print(row)"
   ]
  },
  {
   "cell_type": "markdown",
   "id": "b1f97b81",
   "metadata": {},
   "source": [
    "# Update records"
   ]
  },
  {
   "cell_type": "code",
   "execution_count": 100,
   "id": "9e2365e7",
   "metadata": {},
   "outputs": [],
   "source": [
    "for row in (cur.execute(\"update student set marks=95 where name='Rakesh'\")):\n",
    "    print(row)"
   ]
  },
  {
   "cell_type": "code",
   "execution_count": 101,
   "id": "c906eda1",
   "metadata": {},
   "outputs": [
    {
     "name": "stdout",
     "output_type": "stream",
     "text": [
      "(1, 'Mohit', 'A', 65)\n",
      "(2, 'Swati', 'B', 70)\n",
      "(3, 'Monika', 'C', 75)\n",
      "(4, 'Rakesh', 'C', 95)\n",
      "(5, 'Ajay', 'A', 89)\n"
     ]
    }
   ],
   "source": [
    "for row in (cur.execute(\"select * from student\")):\n",
    "    print(row)"
   ]
  },
  {
   "cell_type": "code",
   "execution_count": 110,
   "id": "8c1e0f19",
   "metadata": {},
   "outputs": [
    {
     "data": {
      "text/plain": [
       "<sqlite3.Cursor at 0x74a1a40>"
      ]
     },
     "execution_count": 110,
     "metadata": {},
     "output_type": "execute_result"
    }
   ],
   "source": [
    "# Multiple updation\n",
    "\n",
    "cur.execute(\"update student set marks=88 where id in (1,3)\")\n"
   ]
  },
  {
   "cell_type": "code",
   "execution_count": 111,
   "id": "efd3b782",
   "metadata": {},
   "outputs": [
    {
     "name": "stdout",
     "output_type": "stream",
     "text": [
      "(1, 'Mohit', 'A', 88)\n",
      "(2, 'Swati', 'B', 70)\n",
      "(3, 'Monika', 'C', 88)\n",
      "(4, 'Rakesh', 'C', 95)\n",
      "(5, 'Ajay', 'A', 89)\n"
     ]
    }
   ],
   "source": [
    "for row in (cur.execute(\"select * from student\")):\n",
    "    print(row)"
   ]
  },
  {
   "cell_type": "code",
   "execution_count": 112,
   "id": "1fdc80c3",
   "metadata": {},
   "outputs": [],
   "source": [
    "# Delete the record"
   ]
  },
  {
   "cell_type": "code",
   "execution_count": 113,
   "id": "4997188d",
   "metadata": {},
   "outputs": [
    {
     "data": {
      "text/plain": [
       "<sqlite3.Cursor at 0x74a1a40>"
      ]
     },
     "execution_count": 113,
     "metadata": {},
     "output_type": "execute_result"
    }
   ],
   "source": [
    "cur.execute(\"delete from student where id=4\")"
   ]
  },
  {
   "cell_type": "code",
   "execution_count": 114,
   "id": "33500101",
   "metadata": {},
   "outputs": [
    {
     "name": "stdout",
     "output_type": "stream",
     "text": [
      "(1, 'Mohit', 'A', 88)\n",
      "(2, 'Swati', 'B', 70)\n",
      "(3, 'Monika', 'C', 88)\n",
      "(5, 'Ajay', 'A', 89)\n"
     ]
    }
   ],
   "source": [
    "for row in (cur.execute(\"select * from student\")):\n",
    "    print(row)"
   ]
  },
  {
   "cell_type": "code",
   "execution_count": 115,
   "id": "b34220b3",
   "metadata": {},
   "outputs": [
    {
     "data": {
      "text/plain": [
       "[(1, 'Mohit', 'A', 88),\n",
       " (2, 'Swati', 'B', 70),\n",
       " (3, 'Monika', 'C', 88),\n",
       " (5, 'Ajay', 'A', 89)]"
      ]
     },
     "execution_count": 115,
     "metadata": {},
     "output_type": "execute_result"
    }
   ],
   "source": [
    "cur.execute(\"select * from student\").fetchall()"
   ]
  },
  {
   "cell_type": "code",
   "execution_count": 116,
   "id": "945d5d0f",
   "metadata": {},
   "outputs": [
    {
     "ename": "SyntaxError",
     "evalue": "invalid syntax (<ipython-input-116-39c4b833e3a2>, line 3)",
     "output_type": "error",
     "traceback": [
      "\u001b[1;36m  File \u001b[1;32m\"<ipython-input-116-39c4b833e3a2>\"\u001b[1;36m, line \u001b[1;32m3\u001b[0m\n\u001b[1;33m    drop table student\u001b[0m\n\u001b[1;37m         ^\u001b[0m\n\u001b[1;31mSyntaxError\u001b[0m\u001b[1;31m:\u001b[0m invalid syntax\n"
     ]
    }
   ],
   "source": [
    "# delete table\n",
    "\n",
    "drop table student"
   ]
  },
  {
   "cell_type": "code",
   "execution_count": 1,
   "id": "8bcedcad",
   "metadata": {},
   "outputs": [],
   "source": [
    "# Take data from .csv file"
   ]
  },
  {
   "cell_type": "code",
   "execution_count": 3,
   "id": "0e1beb0a",
   "metadata": {},
   "outputs": [],
   "source": [
    "import sqlite3"
   ]
  },
  {
   "cell_type": "code",
   "execution_count": 4,
   "id": "00101462",
   "metadata": {},
   "outputs": [],
   "source": [
    "db=sqlite3.connect(\"student_database.db\")"
   ]
  },
  {
   "cell_type": "code",
   "execution_count": 5,
   "id": "c9f9c35e",
   "metadata": {},
   "outputs": [],
   "source": [
    "cur=db.cursor()"
   ]
  },
  {
   "cell_type": "code",
   "execution_count": 6,
   "id": "b8781b99",
   "metadata": {},
   "outputs": [
    {
     "data": {
      "text/plain": [
       "<sqlite3.Cursor at 0x77f40a0>"
      ]
     },
     "execution_count": 6,
     "metadata": {},
     "output_type": "execute_result"
    }
   ],
   "source": [
    "cur.execute('create table score (id int primary key, name text,marks int)')"
   ]
  },
  {
   "cell_type": "code",
   "execution_count": 8,
   "id": "217899bf",
   "metadata": {},
   "outputs": [
    {
     "data": {
      "text/plain": [
       "<sqlite3.Cursor at 0x77f40a0>"
      ]
     },
     "execution_count": 8,
     "metadata": {},
     "output_type": "execute_result"
    }
   ],
   "source": [
    "cur.execute('insert into score (id,name,marks) values (0,\"Name\",00)')"
   ]
  },
  {
   "cell_type": "code",
   "execution_count": 9,
   "id": "5d906bea",
   "metadata": {},
   "outputs": [],
   "source": [
    "db.commit()    # to save data"
   ]
  },
  {
   "cell_type": "code",
   "execution_count": 10,
   "id": "813660ce",
   "metadata": {},
   "outputs": [
    {
     "name": "stdout",
     "output_type": "stream",
     "text": [
      "1\n"
     ]
    }
   ],
   "source": [
    "print(cur.rowcount)"
   ]
  },
  {
   "cell_type": "markdown",
   "id": "f972d7ee",
   "metadata": {},
   "source": [
    "# now, open .csv file and copy data into db\n"
   ]
  },
  {
   "cell_type": "code",
   "execution_count": 13,
   "id": "c247c81c",
   "metadata": {},
   "outputs": [],
   "source": [
    "with open('data.csv','r') as file:\n",
    "    total_records=0\n",
    "    for row in file:\n",
    "        cur.execute('insert into score values (?,?,?)',row.split(\",\"))\n",
    "        db.commit()\n",
    "        total_records +=1"
   ]
  },
  {
   "cell_type": "code",
   "execution_count": 14,
   "id": "e7f8121a",
   "metadata": {},
   "outputs": [
    {
     "name": "stdout",
     "output_type": "stream",
     "text": [
      "8\n"
     ]
    }
   ],
   "source": [
    "print(total_records)"
   ]
  },
  {
   "cell_type": "code",
   "execution_count": 15,
   "id": "d869fc27",
   "metadata": {},
   "outputs": [
    {
     "data": {
      "text/plain": [
       "[(0, 'Name', 0),\n",
       " (1, 'John', 90),\n",
       " (2, 'Jack', 80),\n",
       " (3, 'lisa', 60),\n",
       " (4, 'mohit', 30),\n",
       " (5, 'ajay', 50),\n",
       " (6, 'swati', 25),\n",
       " (7, 'rakesh', 40),\n",
       " (8, 'monika', 20)]"
      ]
     },
     "execution_count": 15,
     "metadata": {},
     "output_type": "execute_result"
    }
   ],
   "source": [
    "result=cur.execute('select * from score')\n",
    "result.fetchall()"
   ]
  },
  {
   "cell_type": "code",
   "execution_count": 16,
   "id": "d13ed7a6",
   "metadata": {},
   "outputs": [],
   "source": [
    "# perform some simple operatiopns"
   ]
  },
  {
   "cell_type": "code",
   "execution_count": 19,
   "id": "e98923f5",
   "metadata": {},
   "outputs": [
    {
     "data": {
      "text/plain": [
       "[(0, 'Name', 0),\n",
       " (4, 'mohit', 30),\n",
       " (6, 'swati', 25),\n",
       " (7, 'rakesh', 40),\n",
       " (8, 'monika', 20)]"
      ]
     },
     "execution_count": 19,
     "metadata": {},
     "output_type": "execute_result"
    }
   ],
   "source": [
    "result=cur.execute('select * from score where marks <50')\n",
    "result.fetchall()"
   ]
  },
  {
   "cell_type": "code",
   "execution_count": 20,
   "id": "6cf41bcd",
   "metadata": {},
   "outputs": [
    {
     "data": {
      "text/plain": [
       "[(43.888888888888886,)]"
      ]
     },
     "execution_count": 20,
     "metadata": {},
     "output_type": "execute_result"
    }
   ],
   "source": [
    "result=cur.execute('select avg(marks) from score')\n",
    "result.fetchall()"
   ]
  },
  {
   "cell_type": "markdown",
   "id": "5d427722",
   "metadata": {},
   "source": [
    "# SQLITE with python"
   ]
  },
  {
   "cell_type": "code",
   "execution_count": 21,
   "id": "4687b25c",
   "metadata": {},
   "outputs": [],
   "source": [
    "import sqlite3"
   ]
  },
  {
   "cell_type": "code",
   "execution_count": 22,
   "id": "84f1bec3",
   "metadata": {},
   "outputs": [],
   "source": [
    "db=sqlite3.connect('student_database.db')"
   ]
  },
  {
   "cell_type": "code",
   "execution_count": 24,
   "id": "d36c3b53",
   "metadata": {},
   "outputs": [],
   "source": [
    "def sql_table(db):\n",
    "    cur=db.cursor()\n",
    "    cur.execute('create table employee(id int primary key,name text,salary real,department text,position text,hiredate date)')\n",
    "    db.commit()"
   ]
  },
  {
   "cell_type": "code",
   "execution_count": 26,
   "id": "7dc32a2a",
   "metadata": {},
   "outputs": [],
   "source": [
    "# call function to create table in a existing database\n",
    "\n",
    "sql_table(db)"
   ]
  },
  {
   "cell_type": "code",
   "execution_count": 29,
   "id": "75eb3f88",
   "metadata": {},
   "outputs": [
    {
     "data": {
      "text/plain": [
       "<sqlite3.Cursor at 0x7af59d0>"
      ]
     },
     "execution_count": 29,
     "metadata": {},
     "output_type": "execute_result"
    }
   ],
   "source": [
    "# input manual data first\n",
    "cur=db.cursor()\n",
    "cur.execute('insert into employee values(1,\"jack\",9000,\"HR\",\"Manager\",2019-07-09)')"
   ]
  },
  {
   "cell_type": "code",
   "execution_count": 30,
   "id": "cc87804f",
   "metadata": {},
   "outputs": [],
   "source": [
    "db.commit()"
   ]
  },
  {
   "cell_type": "code",
   "execution_count": 31,
   "id": "22e52628",
   "metadata": {},
   "outputs": [
    {
     "name": "stdout",
     "output_type": "stream",
     "text": [
      "1\n"
     ]
    }
   ],
   "source": [
    "print(cur.rowcount)"
   ]
  },
  {
   "cell_type": "code",
   "execution_count": 33,
   "id": "fc6779c2",
   "metadata": {},
   "outputs": [
    {
     "data": {
      "text/plain": [
       "[(1, 'jack', 9000.0, 'HR', 'Manager', 2003)]"
      ]
     },
     "execution_count": 33,
     "metadata": {},
     "output_type": "execute_result"
    }
   ],
   "source": [
    "result=cur.execute('select * from employee')\n",
    "result.fetchall()"
   ]
  },
  {
   "cell_type": "code",
   "execution_count": 35,
   "id": "3d739b28",
   "metadata": {},
   "outputs": [],
   "source": [
    "# create function to input entities\n",
    "\n",
    "def sql_insert(db,entities):\n",
    "    cur=db.cursor()\n",
    "    cur.execute('insert into employee values (?,?,?,?,?,?)',entities)"
   ]
  },
  {
   "cell_type": "code",
   "execution_count": 36,
   "id": "67e612cf",
   "metadata": {},
   "outputs": [],
   "source": [
    "entities=(2,\"Andrew\",7000,\"IT\",\"Engineer\",\"2015-04-06\")\n",
    "\n",
    "sql_insert(db,entities)"
   ]
  },
  {
   "cell_type": "code",
   "execution_count": 37,
   "id": "4a164541",
   "metadata": {},
   "outputs": [
    {
     "data": {
      "text/plain": [
       "[(1, 'jack', 9000.0, 'HR', 'Manager', 2003),\n",
       " (2, 'Andrew', 7000.0, 'IT', 'Engineer', '2015-04-06')]"
      ]
     },
     "execution_count": 37,
     "metadata": {},
     "output_type": "execute_result"
    }
   ],
   "source": [
    "result=cur.execute('select * from employee')\n",
    "result.fetchall()"
   ]
  },
  {
   "cell_type": "code",
   "execution_count": 38,
   "id": "7d911b33",
   "metadata": {},
   "outputs": [],
   "source": [
    "#  3rd entry\n",
    "\n",
    "entities=(3,\"Thomas\",6000,\"HR\",\"Manager\",\"2016-06-14\")\n",
    "\n",
    "sql_insert(db,entities)"
   ]
  },
  {
   "cell_type": "code",
   "execution_count": 39,
   "id": "465fcc2d",
   "metadata": {},
   "outputs": [],
   "source": [
    "# 4th entry\n",
    "\n",
    "entities=(4,\"Rudolf\",8000,\"IT\",\"Engineer\",\"2012-08-23\")\n",
    "\n",
    "sql_insert(db,entities)"
   ]
  },
  {
   "cell_type": "code",
   "execution_count": 40,
   "id": "0151fe78",
   "metadata": {},
   "outputs": [],
   "source": [
    "#5th entry\n",
    "\n",
    "entities=(5,\"Suzen\",10000,\"Sales\",\"Sales executive\",\"2018-02-19\")\n",
    "\n",
    "sql_insert(db,entities)"
   ]
  },
  {
   "cell_type": "code",
   "execution_count": 41,
   "id": "b3f0fffe",
   "metadata": {},
   "outputs": [
    {
     "data": {
      "text/plain": [
       "[(1, 'jack', 9000.0, 'HR', 'Manager', 2003),\n",
       " (2, 'Andrew', 7000.0, 'IT', 'Engineer', '2015-04-06'),\n",
       " (3, 'Thomas', 6000.0, 'HR', 'Manager', '2016-06-14'),\n",
       " (4, 'Rudolf', 8000.0, 'IT', 'Engineer', '2012-08-23'),\n",
       " (5, 'Suzen', 10000.0, 'Sales', 'Sales executive', '2018-02-19')]"
      ]
     },
     "execution_count": 41,
     "metadata": {},
     "output_type": "execute_result"
    }
   ],
   "source": [
    "result=cur.execute('select * from employee')\n",
    "result.fetchall()"
   ]
  },
  {
   "cell_type": "code",
   "execution_count": 43,
   "id": "212fa4f9",
   "metadata": {},
   "outputs": [],
   "source": [
    "# create function to update entry in sql database table\n",
    "\n",
    "def sql_update(db):\n",
    "    cur=db.cursor()\n",
    "    cur.execute('update employee set name=\"Mohit\" where id=1    ')\n",
    "    db.commit()\n",
    "    "
   ]
  },
  {
   "cell_type": "code",
   "execution_count": 44,
   "id": "ced91b7d",
   "metadata": {},
   "outputs": [],
   "source": [
    "sql_update(db)"
   ]
  },
  {
   "cell_type": "code",
   "execution_count": 45,
   "id": "a3be0059",
   "metadata": {},
   "outputs": [
    {
     "data": {
      "text/plain": [
       "[(1, 'Mohit', 9000.0, 'HR', 'Manager', 2003),\n",
       " (2, 'Andrew', 7000.0, 'IT', 'Engineer', '2015-04-06'),\n",
       " (3, 'Thomas', 6000.0, 'HR', 'Manager', '2016-06-14'),\n",
       " (4, 'Rudolf', 8000.0, 'IT', 'Engineer', '2012-08-23'),\n",
       " (5, 'Suzen', 10000.0, 'Sales', 'Sales executive', '2018-02-19')]"
      ]
     },
     "execution_count": 45,
     "metadata": {},
     "output_type": "execute_result"
    }
   ],
   "source": [
    "result=cur.execute('select * from employee')\n",
    "result.fetchall()"
   ]
  },
  {
   "cell_type": "code",
   "execution_count": 46,
   "id": "ef02e5b8",
   "metadata": {},
   "outputs": [
    {
     "data": {
      "text/plain": [
       "[(1, 'Mohit'), (3, 'Thomas')]"
      ]
     },
     "execution_count": 46,
     "metadata": {},
     "output_type": "execute_result"
    }
   ],
   "source": [
    "result=cur.execute('select id,name from employee where department=\"HR\"')\n",
    "result.fetchall()"
   ]
  },
  {
   "cell_type": "code",
   "execution_count": 49,
   "id": "262c1682",
   "metadata": {},
   "outputs": [
    {
     "data": {
      "text/plain": [
       "[(7000.0,)]"
      ]
     },
     "execution_count": 49,
     "metadata": {},
     "output_type": "execute_result"
    }
   ],
   "source": [
    "result=cur.execute('select min(salary) from employee where position=\"Engineer\"')\n",
    "result.fetchall()"
   ]
  },
  {
   "cell_type": "code",
   "execution_count": 50,
   "id": "f0e385ca",
   "metadata": {},
   "outputs": [
    {
     "data": {
      "text/plain": [
       "[(5,)]"
      ]
     },
     "execution_count": 50,
     "metadata": {},
     "output_type": "execute_result"
    }
   ],
   "source": [
    "result=cur.execute('select count(id) from employee')\n",
    "result.fetchall()"
   ]
  },
  {
   "cell_type": "code",
   "execution_count": 51,
   "id": "839d2012",
   "metadata": {},
   "outputs": [
    {
     "data": {
      "text/plain": [
       "[('HR',), ('IT',), ('Sales',)]"
      ]
     },
     "execution_count": 51,
     "metadata": {},
     "output_type": "execute_result"
    }
   ],
   "source": [
    "result=cur.execute('select distinct(department) from employee')\n",
    "result.fetchall()"
   ]
  },
  {
   "cell_type": "code",
   "execution_count": 52,
   "id": "9bce796a",
   "metadata": {},
   "outputs": [
    {
     "data": {
      "text/plain": [
       "[('Manager',), ('Engineer',), ('Sales executive',)]"
      ]
     },
     "execution_count": 52,
     "metadata": {},
     "output_type": "execute_result"
    }
   ],
   "source": [
    "result=cur.execute('select distinct(position) from employee')\n",
    "result.fetchall()"
   ]
  },
  {
   "cell_type": "code",
   "execution_count": 57,
   "id": "81d63a19",
   "metadata": {},
   "outputs": [
    {
     "data": {
      "text/plain": [
       "[(15000.0, 'HR'), (15000.0, 'IT'), (10000.0, 'Sales')]"
      ]
     },
     "execution_count": 57,
     "metadata": {},
     "output_type": "execute_result"
    }
   ],
   "source": [
    "result=cur.execute('select sum(salary),department from employee group by department')\n",
    "result.fetchall()"
   ]
  },
  {
   "cell_type": "code",
   "execution_count": 58,
   "id": "60e3287b",
   "metadata": {},
   "outputs": [],
   "source": [
    "# we can also create function for sql query\n",
    "\n",
    "def sql_query(sql):\n",
    "    result=cur.execute(sql)\n",
    "    return result.fetchall()\n",
    "\n"
   ]
  },
  {
   "cell_type": "code",
   "execution_count": 59,
   "id": "144599bf",
   "metadata": {},
   "outputs": [
    {
     "data": {
      "text/plain": [
       "[(1, 'Mohit', 'Manager'),\n",
       " (2, 'Andrew', 'Engineer'),\n",
       " (3, 'Thomas', 'Manager'),\n",
       " (4, 'Rudolf', 'Engineer'),\n",
       " (5, 'Suzen', 'Sales executive')]"
      ]
     },
     "execution_count": 59,
     "metadata": {},
     "output_type": "execute_result"
    }
   ],
   "source": [
    "# call sql query through python function\n",
    "\n",
    "sql='select id,name,position from employee'\n",
    "\n",
    "sql_query(sql)"
   ]
  },
  {
   "cell_type": "code",
   "execution_count": 60,
   "id": "ae06fcab",
   "metadata": {},
   "outputs": [
    {
     "data": {
      "text/plain": [
       "[(1, 'Mohit', 'HR'),\n",
       " (2, 'Andrew', 'IT'),\n",
       " (3, 'Thomas', 'HR'),\n",
       " (4, 'Rudolf', 'IT'),\n",
       " (5, 'Suzen', 'Sales')]"
      ]
     },
     "execution_count": 60,
     "metadata": {},
     "output_type": "execute_result"
    }
   ],
   "source": [
    "sql='select id,name,department from employee'\n",
    "\n",
    "sql_query(sql)"
   ]
  },
  {
   "cell_type": "code",
   "execution_count": 62,
   "id": "8afdc5d0",
   "metadata": {},
   "outputs": [
    {
     "data": {
      "text/plain": [
       "[(1, 'Mohit', 9000.0, 'HR', 'Manager', 2003),\n",
       " (2, 'Andrew', 7000.0, 'IT', 'Engineer', '2015-04-06'),\n",
       " (3, 'Thomas', 6000.0, 'HR', 'Manager', '2016-06-14'),\n",
       " (4, 'Rudolf', 8000.0, 'IT', 'Engineer', '2012-08-23'),\n",
       " (5, 'Suzen', 10000.0, 'Sales', 'Sales executive', '2018-02-19')]"
      ]
     },
     "execution_count": 62,
     "metadata": {},
     "output_type": "execute_result"
    }
   ],
   "source": [
    "sql='select * from employee'\n",
    "\n",
    "sql_query(sql)"
   ]
  },
  {
   "cell_type": "markdown",
   "id": "b73fb766",
   "metadata": {},
   "source": [
    "# We can take bulk insert as well-    executemany"
   ]
  },
  {
   "cell_type": "code",
   "execution_count": 61,
   "id": "e8524147",
   "metadata": {},
   "outputs": [],
   "source": [
    "#executemany can be used to insert many rows once"
   ]
  },
  {
   "cell_type": "code",
   "execution_count": 64,
   "id": "474876a6",
   "metadata": {},
   "outputs": [
    {
     "data": {
      "text/plain": [
       "<sqlite3.Cursor at 0x7af59d0>"
      ]
     },
     "execution_count": 64,
     "metadata": {},
     "output_type": "execute_result"
    }
   ],
   "source": [
    "entities=[(6,'Swati',10000,'Account','CA','2016-12-05' ),(7,'Ajay',50000,'Sales','Sales executive','2018-05-25'  )  ]\n",
    "\n",
    "cur.executemany(\"insert into employee values (?,?,?,?,?,?)\",entities)"
   ]
  },
  {
   "cell_type": "code",
   "execution_count": 65,
   "id": "74d8bd78",
   "metadata": {},
   "outputs": [
    {
     "data": {
      "text/plain": [
       "[(1, 'Mohit', 9000.0, 'HR', 'Manager', 2003),\n",
       " (2, 'Andrew', 7000.0, 'IT', 'Engineer', '2015-04-06'),\n",
       " (3, 'Thomas', 6000.0, 'HR', 'Manager', '2016-06-14'),\n",
       " (4, 'Rudolf', 8000.0, 'IT', 'Engineer', '2012-08-23'),\n",
       " (5, 'Suzen', 10000.0, 'Sales', 'Sales executive', '2018-02-19'),\n",
       " (6, 'Swati', 10000.0, 'Account', 'CA', '2016-12-05'),\n",
       " (7, 'Ajay', 50000.0, 'Sales', 'Sales executive', '2018-05-25')]"
      ]
     },
     "execution_count": 65,
     "metadata": {},
     "output_type": "execute_result"
    }
   ],
   "source": [
    "sql='select * from employee'\n",
    "\n",
    "sql_query(sql)"
   ]
  },
  {
   "cell_type": "code",
   "execution_count": 66,
   "id": "e22eae5a",
   "metadata": {},
   "outputs": [],
   "source": [
    "db.commit()"
   ]
  },
  {
   "cell_type": "code",
   "execution_count": null,
   "id": "7b71d5c3",
   "metadata": {},
   "outputs": [],
   "source": []
  },
  {
   "cell_type": "markdown",
   "id": "28c0d3f3",
   "metadata": {},
   "source": [
    "# Referential Integrity"
   ]
  },
  {
   "cell_type": "code",
   "execution_count": 67,
   "id": "30baa804",
   "metadata": {},
   "outputs": [],
   "source": [
    "db=sqlite3.connect('student_database.db')"
   ]
  },
  {
   "cell_type": "code",
   "execution_count": 68,
   "id": "04d08064",
   "metadata": {},
   "outputs": [],
   "source": [
    "cur=db.cursor()"
   ]
  },
  {
   "cell_type": "code",
   "execution_count": null,
   "id": "ff7065c7",
   "metadata": {},
   "outputs": [],
   "source": [
    "# create 2 tables to link with eachother- course and student1"
   ]
  },
  {
   "cell_type": "code",
   "execution_count": 69,
   "id": "d55ab9d5",
   "metadata": {},
   "outputs": [
    {
     "data": {
      "text/plain": [
       "<sqlite3.Cursor at 0x7cdbea0>"
      ]
     },
     "execution_count": 69,
     "metadata": {},
     "output_type": "execute_result"
    }
   ],
   "source": [
    "cur.execute('create table course (courseid int primary key, coursename text, duration int)')"
   ]
  },
  {
   "cell_type": "code",
   "execution_count": 71,
   "id": "57f5dcbb",
   "metadata": {},
   "outputs": [
    {
     "data": {
      "text/plain": [
       "<sqlite3.Cursor at 0x7cdbea0>"
      ]
     },
     "execution_count": 71,
     "metadata": {},
     "output_type": "execute_result"
    }
   ],
   "source": [
    "cur.execute('create table student1(rollno int primary key, studentname text, age int, courseid int, foreign key(courseid) references course(courseid))')"
   ]
  },
  {
   "cell_type": "code",
   "execution_count": 72,
   "id": "36b5064e",
   "metadata": {},
   "outputs": [],
   "source": [
    "# put data in tables"
   ]
  },
  {
   "cell_type": "code",
   "execution_count": 81,
   "id": "1c5ec268",
   "metadata": {},
   "outputs": [
    {
     "ename": "IntegrityError",
     "evalue": "UNIQUE constraint failed: course.courseid",
     "output_type": "error",
     "traceback": [
      "\u001b[1;31m---------------------------------------------------------------------------\u001b[0m",
      "\u001b[1;31mIntegrityError\u001b[0m                            Traceback (most recent call last)",
      "\u001b[1;32m<ipython-input-81-bdcd1df91162>\u001b[0m in \u001b[0;36m<module>\u001b[1;34m\u001b[0m\n\u001b[1;32m----> 1\u001b[1;33m \u001b[0mcur\u001b[0m\u001b[1;33m.\u001b[0m\u001b[0mexecute\u001b[0m\u001b[1;33m(\u001b[0m\u001b[1;34m'insert into course values (78,\"Data Science\",11),(56,\"Python\",4),(101,\"Data Science \",7)'\u001b[0m\u001b[1;33m)\u001b[0m\u001b[1;33m\u001b[0m\u001b[1;33m\u001b[0m\u001b[0m\n\u001b[0m",
      "\u001b[1;31mIntegrityError\u001b[0m: UNIQUE constraint failed: course.courseid"
     ]
    }
   ],
   "source": [
    "cur.execute('insert into course values (78,\"Data Science\",11),(56,\"Python\",4),(101,\"Data Science \",7)')"
   ]
  },
  {
   "cell_type": "code",
   "execution_count": 79,
   "id": "34d4a23a",
   "metadata": {},
   "outputs": [
    {
     "data": {
      "text/plain": [
       "[(78, 'Data Science', 11), (56, 'Python', 4), (101, 'Data Science', 7)]"
      ]
     },
     "execution_count": 79,
     "metadata": {},
     "output_type": "execute_result"
    }
   ],
   "source": [
    "result= cur.execute('select * from course')\n",
    "result.fetchall()"
   ]
  },
  {
   "cell_type": "raw",
   "id": "e566065c",
   "metadata": {},
   "source": []
  },
  {
   "cell_type": "code",
   "execution_count": 75,
   "id": "a785dd29",
   "metadata": {},
   "outputs": [
    {
     "data": {
      "text/plain": [
       "<sqlite3.Cursor at 0x7cdbea0>"
      ]
     },
     "execution_count": 75,
     "metadata": {},
     "output_type": "execute_result"
    }
   ],
   "source": [
    "cur.execute('insert into student1 values (1,\"Jack\",22,78),(2,\"John\",21,56),(3,\"Rudolf\",18,78),(4,\"Jim\",21,56)')"
   ]
  },
  {
   "cell_type": "code",
   "execution_count": 97,
   "id": "48a9f124",
   "metadata": {},
   "outputs": [
    {
     "data": {
      "text/plain": [
       "[(1, 'Jack', 22, 78),\n",
       " (2, 'John', 21, 56),\n",
       " (3, 'Rudolf', 18, 78),\n",
       " (4, 'Jim', 21, 56)]"
      ]
     },
     "execution_count": 97,
     "metadata": {},
     "output_type": "execute_result"
    }
   ],
   "source": [
    "result= cur.execute('select * from student1')\n",
    "result.fetchall()"
   ]
  },
  {
   "cell_type": "code",
   "execution_count": 78,
   "id": "1b684e46",
   "metadata": {},
   "outputs": [
    {
     "data": {
      "text/plain": [
       "[(78,), (101,)]"
      ]
     },
     "execution_count": 78,
     "metadata": {},
     "output_type": "execute_result"
    }
   ],
   "source": [
    "result= cur.execute('select courseid from course where coursename=\"Data Science\"')\n",
    "result.fetchall()"
   ]
  },
  {
   "cell_type": "code",
   "execution_count": 82,
   "id": "14783f33",
   "metadata": {},
   "outputs": [],
   "source": [
    "# by mistake i have inserted data science in 2 entries in course table, sorry :("
   ]
  },
  {
   "cell_type": "code",
   "execution_count": 83,
   "id": "9310dae9",
   "metadata": {},
   "outputs": [
    {
     "data": {
      "text/plain": [
       "[(56,)]"
      ]
     },
     "execution_count": 83,
     "metadata": {},
     "output_type": "execute_result"
    }
   ],
   "source": [
    "result= cur.execute('select courseid from course where coursename=\"Python\"')\n",
    "result.fetchall()"
   ]
  },
  {
   "cell_type": "markdown",
   "id": "fb22ee24",
   "metadata": {},
   "source": [
    "# SubQuery"
   ]
  },
  {
   "cell_type": "code",
   "execution_count": 86,
   "id": "060e5a25",
   "metadata": {},
   "outputs": [
    {
     "data": {
      "text/plain": [
       "[(2, 'John', 21, 56), (4, 'Jim', 21, 56)]"
      ]
     },
     "execution_count": 86,
     "metadata": {},
     "output_type": "execute_result"
    }
   ],
   "source": [
    "result= cur.execute('select * from student1 where courseid=(select courseid from course where coursename=\"Python\")')\n",
    "result.fetchall()"
   ]
  },
  {
   "cell_type": "markdown",
   "id": "d8a73767",
   "metadata": {},
   "source": [
    "# Join"
   ]
  },
  {
   "cell_type": "code",
   "execution_count": 87,
   "id": "01d8d540",
   "metadata": {},
   "outputs": [],
   "source": [
    "# INNER JOIN:  returns records that have matching values in both tables\n",
    "# LEFT JOIN:   return all records from left table and matched record from the right table\n",
    "# RIGHT JOIN:  return all records from the right table and matched records from the left table\n",
    "# FULL OUTER JOIN:  returns all records where theere is a match in either left or right table"
   ]
  },
  {
   "cell_type": "markdown",
   "id": "aefb8cc5",
   "metadata": {},
   "source": [
    "# Inner Join"
   ]
  },
  {
   "cell_type": "code",
   "execution_count": 98,
   "id": "fd016652",
   "metadata": {},
   "outputs": [],
   "source": [
    "# From STUDENT INNER JOIN course  on student.courseid=course.courseid, condition is id student courseid is present in course table then only print data\n",
    "# common data from courseid column\n",
    "\n",
    "sql='select student1.rollno, student1.studentname, course.courseid, course.coursename from student1 inner join course on student1.courseid=course.courseid'\n",
    "\n",
    "\n"
   ]
  },
  {
   "cell_type": "code",
   "execution_count": 99,
   "id": "58cc862f",
   "metadata": {},
   "outputs": [
    {
     "data": {
      "text/plain": [
       "[(1, 'Jack', 78, 'Data Science'),\n",
       " (2, 'John', 56, 'Python'),\n",
       " (3, 'Rudolf', 78, 'Data Science'),\n",
       " (4, 'Jim', 56, 'Python')]"
      ]
     },
     "execution_count": 99,
     "metadata": {},
     "output_type": "execute_result"
    }
   ],
   "source": [
    "result=cur.execute(sql)\n",
    "result.fetchall()"
   ]
  },
  {
   "cell_type": "markdown",
   "id": "aee9ce1e",
   "metadata": {},
   "source": [
    "# Left Join"
   ]
  },
  {
   "cell_type": "code",
   "execution_count": 100,
   "id": "4589ecd0",
   "metadata": {},
   "outputs": [],
   "source": [
    "# from student left join course menas,    left table is student and right is course"
   ]
  },
  {
   "cell_type": "code",
   "execution_count": 101,
   "id": "bfa92a7a",
   "metadata": {},
   "outputs": [],
   "source": [
    "sql= ' select student1.rollno, student1.studentname, course.courseid, course.coursename from student1 left join course on student1.courseid=course.courseid'\n",
    "\n"
   ]
  },
  {
   "cell_type": "code",
   "execution_count": 102,
   "id": "ada28520",
   "metadata": {},
   "outputs": [
    {
     "data": {
      "text/plain": [
       "[(1, 'Jack', 78, 'Data Science'),\n",
       " (2, 'John', 56, 'Python'),\n",
       " (3, 'Rudolf', 78, 'Data Science'),\n",
       " (4, 'Jim', 56, 'Python')]"
      ]
     },
     "execution_count": 102,
     "metadata": {},
     "output_type": "execute_result"
    }
   ],
   "source": [
    "result= cur.execute(sql)\n",
    "result.fetchall()"
   ]
  },
  {
   "cell_type": "code",
   "execution_count": null,
   "id": "ef6bfdee",
   "metadata": {},
   "outputs": [],
   "source": []
  },
  {
   "cell_type": "code",
   "execution_count": 103,
   "id": "7fe7a666",
   "metadata": {},
   "outputs": [],
   "source": [
    "sql= ' select student1.rollno, student1.studentname, course.courseid, course.coursename from course left join student1 on student1.courseid=course.courseid'\n",
    "\n"
   ]
  },
  {
   "cell_type": "code",
   "execution_count": 104,
   "id": "cea29749",
   "metadata": {},
   "outputs": [
    {
     "data": {
      "text/plain": [
       "[(1, 'Jack', 78, 'Data Science'),\n",
       " (3, 'Rudolf', 78, 'Data Science'),\n",
       " (2, 'John', 56, 'Python'),\n",
       " (4, 'Jim', 56, 'Python'),\n",
       " (None, None, 101, 'Data Science')]"
      ]
     },
     "execution_count": 104,
     "metadata": {},
     "output_type": "execute_result"
    }
   ],
   "source": [
    "result= cur.execute(sql)\n",
    "result.fetchall()"
   ]
  },
  {
   "cell_type": "code",
   "execution_count": 105,
   "id": "4c5dce0d",
   "metadata": {},
   "outputs": [],
   "source": [
    "# Right Join and Full inner join not supported in sqlite3"
   ]
  },
  {
   "cell_type": "code",
   "execution_count": null,
   "id": "f8c369cb",
   "metadata": {},
   "outputs": [],
   "source": []
  },
  {
   "cell_type": "code",
   "execution_count": null,
   "id": "93b1ef1b",
   "metadata": {},
   "outputs": [],
   "source": []
  },
  {
   "cell_type": "code",
   "execution_count": null,
   "id": "876e9b0b",
   "metadata": {},
   "outputs": [],
   "source": []
  },
  {
   "cell_type": "code",
   "execution_count": null,
   "id": "6990252c",
   "metadata": {},
   "outputs": [],
   "source": []
  },
  {
   "cell_type": "code",
   "execution_count": null,
   "id": "57bbe651",
   "metadata": {},
   "outputs": [],
   "source": []
  },
  {
   "cell_type": "code",
   "execution_count": null,
   "id": "fb46f035",
   "metadata": {},
   "outputs": [],
   "source": []
  }
 ],
 "metadata": {
  "kernelspec": {
   "display_name": "Python 3",
   "language": "python",
   "name": "python3"
  },
  "language_info": {
   "codemirror_mode": {
    "name": "ipython",
    "version": 3
   },
   "file_extension": ".py",
   "mimetype": "text/x-python",
   "name": "python",
   "nbconvert_exporter": "python",
   "pygments_lexer": "ipython3",
   "version": "3.8.8"
  }
 },
 "nbformat": 4,
 "nbformat_minor": 5
}
