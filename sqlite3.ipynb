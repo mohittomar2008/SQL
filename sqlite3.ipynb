{
 "cells": [
  {
   "cell_type": "code",
   "execution_count": 8,
   "id": "ef745fdb",
   "metadata": {},
   "outputs": [],
   "source": [
    "import sqlite3"
   ]
  },
  {
   "cell_type": "code",
   "execution_count": 9,
   "id": "e8dbea1f",
   "metadata": {},
   "outputs": [],
   "source": [
    "db=sqlite3.connect('database.db')"
   ]
  },
  {
   "cell_type": "code",
   "execution_count": 10,
   "id": "4d1a1ca8",
   "metadata": {},
   "outputs": [],
   "source": [
    "cur=db.cursor()"
   ]
  },
  {
   "cell_type": "code",
   "execution_count": 11,
   "id": "c29200cf",
   "metadata": {},
   "outputs": [
    {
     "ename": "OperationalError",
     "evalue": "table student already exists",
     "output_type": "error",
     "traceback": [
      "\u001b[1;31m---------------------------------------------------------------------------\u001b[0m",
      "\u001b[1;31mOperationalError\u001b[0m                          Traceback (most recent call last)",
      "\u001b[1;32m<ipython-input-11-d9b9fdc88210>\u001b[0m in \u001b[0;36m<module>\u001b[1;34m\u001b[0m\n\u001b[1;32m----> 1\u001b[1;33m \u001b[0mcur\u001b[0m\u001b[1;33m.\u001b[0m\u001b[0mexecute\u001b[0m\u001b[1;33m(\u001b[0m\u001b[1;34m'create table student (id int primary key, firstname varchar(30),secondname varchar(30),marks int, City text)'\u001b[0m\u001b[1;33m)\u001b[0m\u001b[1;33m\u001b[0m\u001b[1;33m\u001b[0m\u001b[0m\n\u001b[0m",
      "\u001b[1;31mOperationalError\u001b[0m: table student already exists"
     ]
    }
   ],
   "source": [
    "cur.execute('create table student (id int primary key, firstname varchar(30),secondname varchar(30),marks int, City text)')"
   ]
  },
  {
   "cell_type": "code",
   "execution_count": 12,
   "id": "bc6c7576",
   "metadata": {},
   "outputs": [
    {
     "ename": "OperationalError",
     "evalue": "table student has 7 columns but 5 values were supplied",
     "output_type": "error",
     "traceback": [
      "\u001b[1;31m---------------------------------------------------------------------------\u001b[0m",
      "\u001b[1;31mOperationalError\u001b[0m                          Traceback (most recent call last)",
      "\u001b[1;32m<ipython-input-12-a2f343cef8fd>\u001b[0m in \u001b[0;36m<module>\u001b[1;34m\u001b[0m\n\u001b[1;32m----> 1\u001b[1;33m \u001b[0mcur\u001b[0m\u001b[1;33m.\u001b[0m\u001b[0mexecute\u001b[0m\u001b[1;33m(\u001b[0m\u001b[1;34m\"insert into student values (1,'Mohit','Tomar',60,'Delhi')\"\u001b[0m\u001b[1;33m)\u001b[0m\u001b[1;33m\u001b[0m\u001b[1;33m\u001b[0m\u001b[0m\n\u001b[0m",
      "\u001b[1;31mOperationalError\u001b[0m: table student has 7 columns but 5 values were supplied"
     ]
    }
   ],
   "source": [
    "cur.execute(\"insert into student values (1,'Mohit','Tomar',60,'Delhi')\")"
   ]
  },
  {
   "cell_type": "code",
   "execution_count": 13,
   "id": "927ad762",
   "metadata": {},
   "outputs": [],
   "source": [
    "entiti= [(2,'Swati','Tomar',85,'sydney'),(3,'Ajay','Panwar',85,'Laxmi Nagar'),(4,'Rakesh','Devi',99,'Uttaranchal'),(5,'Monika','Goliyan',90,'Gurgaon'),(6,'Tabu','Tomar',100,'Delhi'),(7,'Gaurav','Sirohi',80,'Uttam nagar'),(8,'Monu',' ',72,'Rajiv chowk'),(9,'Siddharth','jhunjhun wala',46,'Malakpur'),(10,'sameer','jhoka',29,'Hyderabad')   ]"
   ]
  },
  {
   "cell_type": "code",
   "execution_count": 14,
   "id": "a8323b59",
   "metadata": {},
   "outputs": [
    {
     "ename": "OperationalError",
     "evalue": "table student has 7 columns but 5 values were supplied",
     "output_type": "error",
     "traceback": [
      "\u001b[1;31m---------------------------------------------------------------------------\u001b[0m",
      "\u001b[1;31mOperationalError\u001b[0m                          Traceback (most recent call last)",
      "\u001b[1;32m<ipython-input-14-bdc69273a40d>\u001b[0m in \u001b[0;36m<module>\u001b[1;34m\u001b[0m\n\u001b[1;32m----> 1\u001b[1;33m \u001b[0mcur\u001b[0m\u001b[1;33m.\u001b[0m\u001b[0mexecutemany\u001b[0m\u001b[1;33m(\u001b[0m\u001b[1;34m\"insert into student values (?,?,?,?,?)\"\u001b[0m\u001b[1;33m,\u001b[0m\u001b[0mentiti\u001b[0m\u001b[1;33m)\u001b[0m\u001b[1;33m\u001b[0m\u001b[1;33m\u001b[0m\u001b[0m\n\u001b[0m",
      "\u001b[1;31mOperationalError\u001b[0m: table student has 7 columns but 5 values were supplied"
     ]
    }
   ],
   "source": [
    "cur.executemany(\"insert into student values (?,?,?,?,?)\",entiti)"
   ]
  },
  {
   "cell_type": "code",
   "execution_count": 15,
   "id": "12196c52",
   "metadata": {},
   "outputs": [
    {
     "data": {
      "text/plain": [
       "[(1, 'Mohit', 'Tomar', 60, 'Delhi', None, None),\n",
       " (2, 'Swati', 'Tomar', 85, 'sydney', None, None),\n",
       " (3, 'Ajay', 'Panwar', 85, 'Laxmi Nagar', None, None),\n",
       " (4, 'Rakesh', 'Devi', 99, 'Uttaranchal', None, None),\n",
       " (5, 'Monika', 'Goliyan', 90, 'Gurgaon', None, None),\n",
       " (6, 'Tabu', 'Tomar', 100, 'Delhi', None, None),\n",
       " (7, 'Gaurav', 'Sirohi', 80, 'Uttam nagar', None, None),\n",
       " (8, 'Monu', None, 72, 'Rajiv chowk', None, None),\n",
       " (9, 'Siddharth', 'jhunjhun wala', 46, 'Malakpur', None, None),\n",
       " (10, 'sameer', 'jhoka', 29, 'Hyderabad', None, None)]"
      ]
     },
     "execution_count": 15,
     "metadata": {},
     "output_type": "execute_result"
    }
   ],
   "source": [
    "cur.execute('select * from student')\n",
    "cur.fetchall()"
   ]
  },
  {
   "cell_type": "code",
   "execution_count": 16,
   "id": "1434801d",
   "metadata": {},
   "outputs": [],
   "source": [
    "# create a function to run query\n",
    "\n",
    "def sql_query(sql):\n",
    "    cur.execute(sql)\n",
    "    return cur.fetchall()\n",
    "    \n",
    "    "
   ]
  },
  {
   "cell_type": "code",
   "execution_count": 17,
   "id": "1b34463d",
   "metadata": {},
   "outputs": [
    {
     "data": {
      "text/plain": [
       "[(1, 'Mohit', 'Tomar', 60, 'Delhi', None, None),\n",
       " (2, 'Swati', 'Tomar', 85, 'sydney', None, None),\n",
       " (3, 'Ajay', 'Panwar', 85, 'Laxmi Nagar', None, None),\n",
       " (4, 'Rakesh', 'Devi', 99, 'Uttaranchal', None, None),\n",
       " (5, 'Monika', 'Goliyan', 90, 'Gurgaon', None, None),\n",
       " (6, 'Tabu', 'Tomar', 100, 'Delhi', None, None),\n",
       " (7, 'Gaurav', 'Sirohi', 80, 'Uttam nagar', None, None),\n",
       " (8, 'Monu', None, 72, 'Rajiv chowk', None, None),\n",
       " (9, 'Siddharth', 'jhunjhun wala', 46, 'Malakpur', None, None),\n",
       " (10, 'sameer', 'jhoka', 29, 'Hyderabad', None, None)]"
      ]
     },
     "execution_count": 17,
     "metadata": {},
     "output_type": "execute_result"
    }
   ],
   "source": [
    "sql='select * from student'\n",
    "sql_query(sql)"
   ]
  },
  {
   "cell_type": "code",
   "execution_count": 18,
   "id": "1e755d06",
   "metadata": {},
   "outputs": [
    {
     "data": {
      "text/plain": [
       "[('Tomar', 'Mohit'),\n",
       " ('Tomar', 'Swati'),\n",
       " ('Panwar', 'Ajay'),\n",
       " ('Devi', 'Rakesh'),\n",
       " ('Goliyan', 'Monika'),\n",
       " ('Tomar', 'Tabu'),\n",
       " ('Sirohi', 'Gaurav'),\n",
       " (None, 'Monu'),\n",
       " ('jhunjhun wala', 'Siddharth'),\n",
       " ('jhoka', 'sameer')]"
      ]
     },
     "execution_count": 18,
     "metadata": {},
     "output_type": "execute_result"
    }
   ],
   "source": [
    "sql='select distinct secondname, firstname from student'\n",
    "\n",
    "sql_query(sql)"
   ]
  },
  {
   "cell_type": "code",
   "execution_count": 19,
   "id": "8c4b915e",
   "metadata": {},
   "outputs": [
    {
     "data": {
      "text/plain": [
       "[('Tabu',)]"
      ]
     },
     "execution_count": 19,
     "metadata": {},
     "output_type": "execute_result"
    }
   ],
   "source": [
    "sql=\"select firstname from student where secondname='Tomar' and marks>=90\"\n",
    "\n",
    "sql_query(sql)"
   ]
  },
  {
   "cell_type": "code",
   "execution_count": 20,
   "id": "b70f2e3e",
   "metadata": {},
   "outputs": [
    {
     "data": {
      "text/plain": [
       "[('Swati',), ('Ajay',), ('Monika',), ('Gaurav',)]"
      ]
     },
     "execution_count": 20,
     "metadata": {},
     "output_type": "execute_result"
    }
   ],
   "source": [
    "sql=\"select firstname from student where marks between 80 and 90\"\n",
    "\n",
    "sql_query(sql)"
   ]
  },
  {
   "cell_type": "code",
   "execution_count": 21,
   "id": "c07fc7cd",
   "metadata": {},
   "outputs": [
    {
     "data": {
      "text/plain": [
       "[('Mohit',), ('Swati',), ('Tabu',), ('Siddharth',), ('sameer',)]"
      ]
     },
     "execution_count": 21,
     "metadata": {},
     "output_type": "execute_result"
    }
   ],
   "source": [
    "sql=\"select firstname from student where secondname='Tomar' or marks<50\"\n",
    "\n",
    "sql_query(sql)"
   ]
  },
  {
   "cell_type": "code",
   "execution_count": 22,
   "id": "48688ede",
   "metadata": {},
   "outputs": [
    {
     "data": {
      "text/plain": [
       "[('Ajay',), ('Rakesh',), ('Monika',), ('Gaurav',), ('Siddharth',), ('sameer',)]"
      ]
     },
     "execution_count": 22,
     "metadata": {},
     "output_type": "execute_result"
    }
   ],
   "source": [
    "#where not\n",
    "\n",
    "sql=\"select firstname from student where not secondname='Tomar'\"\n",
    "\n",
    "sql_query(sql)"
   ]
  },
  {
   "cell_type": "code",
   "execution_count": 23,
   "id": "939dd1eb",
   "metadata": {},
   "outputs": [
    {
     "data": {
      "text/plain": [
       "[('Ajay',),\n",
       " ('Gaurav',),\n",
       " ('Mohit',),\n",
       " ('Monika',),\n",
       " ('Monu',),\n",
       " ('Rakesh',),\n",
       " ('Siddharth',),\n",
       " ('Swati',),\n",
       " ('Tabu',),\n",
       " ('sameer',)]"
      ]
     },
     "execution_count": 23,
     "metadata": {},
     "output_type": "execute_result"
    }
   ],
   "source": [
    "# order by\n",
    "\n",
    "sql=\"select firstname from student order by firstname\"\n",
    "\n",
    "sql_query(sql) "
   ]
  },
  {
   "cell_type": "code",
   "execution_count": 24,
   "id": "394f5cf0",
   "metadata": {},
   "outputs": [
    {
     "data": {
      "text/plain": [
       "[('Mohit',),\n",
       " ('Swati',),\n",
       " ('Ajay',),\n",
       " ('Rakesh',),\n",
       " ('Monika',),\n",
       " ('Tabu',),\n",
       " ('Gaurav',)]"
      ]
     },
     "execution_count": 24,
     "metadata": {},
     "output_type": "execute_result"
    }
   ],
   "source": [
    "# top clause\n",
    "sql=\"select firstname from student limit 7\"\n",
    "\n",
    "sql_query(sql) "
   ]
  },
  {
   "cell_type": "code",
   "execution_count": 25,
   "id": "d07a41ba",
   "metadata": {},
   "outputs": [
    {
     "data": {
      "text/plain": [
       "[(100,)]"
      ]
     },
     "execution_count": 25,
     "metadata": {},
     "output_type": "execute_result"
    }
   ],
   "source": [
    "# Min() and max\n",
    "\n",
    "sql=\"select max(marks) from student where secondname='Tomar'\"\n",
    "\n",
    "sql_query(sql) "
   ]
  },
  {
   "cell_type": "code",
   "execution_count": 26,
   "id": "828775ca",
   "metadata": {},
   "outputs": [
    {
     "data": {
      "text/plain": [
       "[(6,)]"
      ]
     },
     "execution_count": 26,
     "metadata": {},
     "output_type": "execute_result"
    }
   ],
   "source": [
    "# count\n",
    "\n",
    "sql=\"select count(firstname) from student where marks between 80 and 100 \"\n",
    "\n",
    "sql_query(sql) "
   ]
  },
  {
   "cell_type": "code",
   "execution_count": 27,
   "id": "7a0e93ab",
   "metadata": {},
   "outputs": [
    {
     "data": {
      "text/plain": [
       "[(81.66666666666667, 'Tomar')]"
      ]
     },
     "execution_count": 27,
     "metadata": {},
     "output_type": "execute_result"
    }
   ],
   "source": [
    "# AVG\n",
    "\n",
    "sql=\"select avg(marks),secondname from student where secondname ='Tomar'\"\n",
    "\n",
    "sql_query(sql) "
   ]
  },
  {
   "cell_type": "code",
   "execution_count": 28,
   "id": "cdb56a6f",
   "metadata": {},
   "outputs": [
    {
     "data": {
      "text/plain": [
       "[(746,)]"
      ]
     },
     "execution_count": 28,
     "metadata": {},
     "output_type": "execute_result"
    }
   ],
   "source": [
    "# sum\n",
    "\n",
    "sql=\"select sum(marks) from student\"\n",
    "\n",
    "sql_query(sql) "
   ]
  },
  {
   "cell_type": "code",
   "execution_count": 29,
   "id": "0aaafe38",
   "metadata": {},
   "outputs": [
    {
     "data": {
      "text/plain": [
       "[('Mohit', 'Tomar')]"
      ]
     },
     "execution_count": 29,
     "metadata": {},
     "output_type": "execute_result"
    }
   ],
   "source": [
    "#like operator\n",
    "\n",
    "sql=\"select firstname, secondname from student where firstname like '__h%'\"\n",
    "\n",
    "sql_query(sql)"
   ]
  },
  {
   "cell_type": "code",
   "execution_count": 30,
   "id": "41d91e49",
   "metadata": {},
   "outputs": [
    {
     "data": {
      "text/plain": [
       "[('Swati', 'Tomar'),\n",
       " ('Ajay', 'Panwar'),\n",
       " ('Monika', 'Goliyan'),\n",
       " ('Tabu', 'Tomar'),\n",
       " ('Gaurav', 'Sirohi')]"
      ]
     },
     "execution_count": 30,
     "metadata": {},
     "output_type": "execute_result"
    }
   ],
   "source": [
    "# in and not operator\n",
    "\n",
    "sql=\"select firstname, secondname from student where marks in (90,80,100,85)\"\n",
    "\n",
    "sql_query(sql)"
   ]
  },
  {
   "cell_type": "code",
   "execution_count": 31,
   "id": "85311363",
   "metadata": {},
   "outputs": [
    {
     "data": {
      "text/plain": [
       "[('Mohit', 'Tomar'),\n",
       " ('Rakesh', 'Devi'),\n",
       " ('Monu', None),\n",
       " ('Siddharth', 'jhunjhun wala'),\n",
       " ('sameer', 'jhoka')]"
      ]
     },
     "execution_count": 31,
     "metadata": {},
     "output_type": "execute_result"
    }
   ],
   "source": [
    "sql=\"select firstname, secondname from student where marks not in (90,80,100,85)\"\n",
    "\n",
    "sql_query(sql)"
   ]
  },
  {
   "cell_type": "code",
   "execution_count": 32,
   "id": "d55c41ae",
   "metadata": {},
   "outputs": [
    {
     "data": {
      "text/plain": [
       "[('Mohit', 'Tomar'),\n",
       " ('Rakesh', 'Devi'),\n",
       " ('Monu', None),\n",
       " ('Siddharth', 'jhunjhun wala'),\n",
       " ('sameer', 'jhoka')]"
      ]
     },
     "execution_count": 32,
     "metadata": {},
     "output_type": "execute_result"
    }
   ],
   "source": [
    "# alias\n",
    "\n",
    "sql=\"select firstname as f, secondname as s from student where marks not in (90,80,100,85)\"\n",
    "\n",
    "sql_query(sql)"
   ]
  },
  {
   "cell_type": "code",
   "execution_count": 33,
   "id": "532edbc5",
   "metadata": {},
   "outputs": [
    {
     "data": {
      "text/plain": [
       "[('Mohit', 'Tomar'),\n",
       " ('Rakesh', 'Devi'),\n",
       " ('Monu', None),\n",
       " ('Siddharth', 'jhunjhun wala'),\n",
       " ('sameer', 'jhoka')]"
      ]
     },
     "execution_count": 33,
     "metadata": {},
     "output_type": "execute_result"
    }
   ],
   "source": [
    "# alias\n",
    "\n",
    "sql=\"select s.firstname , s.secondname from student as s where marks not in (90,80,100,85)\"\n",
    "\n",
    "sql_query(sql)"
   ]
  },
  {
   "cell_type": "code",
   "execution_count": 34,
   "id": "3462bf63",
   "metadata": {},
   "outputs": [
    {
     "ename": "OperationalError",
     "evalue": "no such table: country",
     "output_type": "error",
     "traceback": [
      "\u001b[1;31m---------------------------------------------------------------------------\u001b[0m",
      "\u001b[1;31mOperationalError\u001b[0m                          Traceback (most recent call last)",
      "\u001b[1;32m<ipython-input-34-d16ad445c6de>\u001b[0m in \u001b[0;36m<module>\u001b[1;34m\u001b[0m\n\u001b[0;32m      3\u001b[0m \u001b[0msql\u001b[0m\u001b[1;33m=\u001b[0m\u001b[1;34m\"select * from country group by continent having count(region)>6\"\u001b[0m\u001b[1;33m\u001b[0m\u001b[1;33m\u001b[0m\u001b[0m\n\u001b[0;32m      4\u001b[0m \u001b[1;33m\u001b[0m\u001b[0m\n\u001b[1;32m----> 5\u001b[1;33m \u001b[0msql_query\u001b[0m\u001b[1;33m(\u001b[0m\u001b[0msql\u001b[0m\u001b[1;33m)\u001b[0m\u001b[1;33m\u001b[0m\u001b[1;33m\u001b[0m\u001b[0m\n\u001b[0m",
      "\u001b[1;32m<ipython-input-16-0afb28896144>\u001b[0m in \u001b[0;36msql_query\u001b[1;34m(sql)\u001b[0m\n\u001b[0;32m      2\u001b[0m \u001b[1;33m\u001b[0m\u001b[0m\n\u001b[0;32m      3\u001b[0m \u001b[1;32mdef\u001b[0m \u001b[0msql_query\u001b[0m\u001b[1;33m(\u001b[0m\u001b[0msql\u001b[0m\u001b[1;33m)\u001b[0m\u001b[1;33m:\u001b[0m\u001b[1;33m\u001b[0m\u001b[1;33m\u001b[0m\u001b[0m\n\u001b[1;32m----> 4\u001b[1;33m     \u001b[0mcur\u001b[0m\u001b[1;33m.\u001b[0m\u001b[0mexecute\u001b[0m\u001b[1;33m(\u001b[0m\u001b[0msql\u001b[0m\u001b[1;33m)\u001b[0m\u001b[1;33m\u001b[0m\u001b[1;33m\u001b[0m\u001b[0m\n\u001b[0m\u001b[0;32m      5\u001b[0m     \u001b[1;32mreturn\u001b[0m \u001b[0mcur\u001b[0m\u001b[1;33m.\u001b[0m\u001b[0mfetchall\u001b[0m\u001b[1;33m(\u001b[0m\u001b[1;33m)\u001b[0m\u001b[1;33m\u001b[0m\u001b[1;33m\u001b[0m\u001b[0m\n\u001b[0;32m      6\u001b[0m \u001b[1;33m\u001b[0m\u001b[0m\n",
      "\u001b[1;31mOperationalError\u001b[0m: no such table: country"
     ]
    }
   ],
   "source": [
    "# Having\n",
    "\n",
    "sql=\"select * from country group by continent having count(region)>6\"\n",
    "\n",
    "sql_query(sql)"
   ]
  },
  {
   "cell_type": "code",
   "execution_count": 35,
   "id": "4c37c6ae",
   "metadata": {},
   "outputs": [
    {
     "data": {
      "text/plain": [
       "[(1, 'Mohit', 'Tomar', 60, 'Delhi', None, None)]"
      ]
     },
     "execution_count": 35,
     "metadata": {},
     "output_type": "execute_result"
    }
   ],
   "source": [
    "# Having\n",
    "\n",
    "sql=\"select * from student group by secondname having count(secondname)>1\"\n",
    "\n",
    "sql_query(sql)"
   ]
  },
  {
   "cell_type": "code",
   "execution_count": 36,
   "id": "f6f5a3ea",
   "metadata": {},
   "outputs": [
    {
     "ename": "OperationalError",
     "evalue": "table studentprofession already exists",
     "output_type": "error",
     "traceback": [
      "\u001b[1;31m---------------------------------------------------------------------------\u001b[0m",
      "\u001b[1;31mOperationalError\u001b[0m                          Traceback (most recent call last)",
      "\u001b[1;32m<ipython-input-36-2184a60ead61>\u001b[0m in \u001b[0;36m<module>\u001b[1;34m\u001b[0m\n\u001b[0;32m      1\u001b[0m \u001b[1;31m# create another table\u001b[0m\u001b[1;33m\u001b[0m\u001b[1;33m\u001b[0m\u001b[1;33m\u001b[0m\u001b[0m\n\u001b[0;32m      2\u001b[0m \u001b[1;33m\u001b[0m\u001b[0m\n\u001b[1;32m----> 3\u001b[1;33m \u001b[0mcur\u001b[0m\u001b[1;33m.\u001b[0m\u001b[0mexecute\u001b[0m\u001b[1;33m(\u001b[0m\u001b[1;34m'create table studentprofession (id int primary key, company varchar(30),profile varchar(30),salary int, rank text)'\u001b[0m\u001b[1;33m)\u001b[0m\u001b[1;33m\u001b[0m\u001b[1;33m\u001b[0m\u001b[0m\n\u001b[0m",
      "\u001b[1;31mOperationalError\u001b[0m: table studentprofession already exists"
     ]
    }
   ],
   "source": [
    "# create another table\n",
    "\n",
    "cur.execute('create table studentprofession (id int primary key, company varchar(30),profile varchar(30),salary int, rank text)')"
   ]
  },
  {
   "cell_type": "code",
   "execution_count": 37,
   "id": "30a9c547",
   "metadata": {},
   "outputs": [
    {
     "ename": "IntegrityError",
     "evalue": "UNIQUE constraint failed: studentprofession.id",
     "output_type": "error",
     "traceback": [
      "\u001b[1;31m---------------------------------------------------------------------------\u001b[0m",
      "\u001b[1;31mIntegrityError\u001b[0m                            Traceback (most recent call last)",
      "\u001b[1;32m<ipython-input-37-02e9d6a06987>\u001b[0m in \u001b[0;36m<module>\u001b[1;34m\u001b[0m\n\u001b[1;32m----> 1\u001b[1;33m \u001b[0mcur\u001b[0m\u001b[1;33m.\u001b[0m\u001b[0mexecute\u001b[0m\u001b[1;33m(\u001b[0m\u001b[1;34m\"insert into studentprofession values (1,'HCL','IT',30000,3)  \"\u001b[0m\u001b[1;33m)\u001b[0m\u001b[1;33m\u001b[0m\u001b[1;33m\u001b[0m\u001b[0m\n\u001b[0m",
      "\u001b[1;31mIntegrityError\u001b[0m: UNIQUE constraint failed: studentprofession.id"
     ]
    }
   ],
   "source": [
    "cur.execute(\"insert into studentprofession values (1,'HCL','IT',30000,3)  \")"
   ]
  },
  {
   "cell_type": "code",
   "execution_count": 38,
   "id": "cebb12d9",
   "metadata": {},
   "outputs": [],
   "source": [
    "entiti= [(2,'Infosis','executive',85000,2),(3,'google','software',70000,5),(4,'facebook','tester',9900,4),(5,'google','sales',72000,4),(6,'TCS','engineer',100000,1),(7,'HDFC','Banker',80000,6),(8,'Motherson','designer',72000,7),(9,'Zee','anchor',46000,6),(10,'sun pharma','doctor',29000,4)   ]"
   ]
  },
  {
   "cell_type": "code",
   "execution_count": 39,
   "id": "c394eeef",
   "metadata": {},
   "outputs": [
    {
     "ename": "IntegrityError",
     "evalue": "UNIQUE constraint failed: studentprofession.id",
     "output_type": "error",
     "traceback": [
      "\u001b[1;31m---------------------------------------------------------------------------\u001b[0m",
      "\u001b[1;31mIntegrityError\u001b[0m                            Traceback (most recent call last)",
      "\u001b[1;32m<ipython-input-39-8f8f4f71e936>\u001b[0m in \u001b[0;36m<module>\u001b[1;34m\u001b[0m\n\u001b[1;32m----> 1\u001b[1;33m \u001b[0mcur\u001b[0m\u001b[1;33m.\u001b[0m\u001b[0mexecutemany\u001b[0m\u001b[1;33m(\u001b[0m\u001b[1;34m\"insert into studentprofession values (?,?,?,?,?)\"\u001b[0m\u001b[1;33m,\u001b[0m\u001b[0mentiti\u001b[0m\u001b[1;33m)\u001b[0m\u001b[1;33m\u001b[0m\u001b[1;33m\u001b[0m\u001b[0m\n\u001b[0m",
      "\u001b[1;31mIntegrityError\u001b[0m: UNIQUE constraint failed: studentprofession.id"
     ]
    }
   ],
   "source": [
    "cur.executemany(\"insert into studentprofession values (?,?,?,?,?)\",entiti)"
   ]
  },
  {
   "cell_type": "code",
   "execution_count": 40,
   "id": "d28947c3",
   "metadata": {},
   "outputs": [
    {
     "data": {
      "text/plain": [
       "[(1, 'Mohit', 'Tomar', 60, 'Delhi', None, None),\n",
       " (2, 'Swati', 'Tomar', 85, 'sydney', None, None),\n",
       " (3, 'Ajay', 'Panwar', 85, 'Laxmi Nagar', None, None),\n",
       " (4, 'Rakesh', 'Devi', 99, 'Uttaranchal', None, None),\n",
       " (5, 'Monika', 'Goliyan', 90, 'Gurgaon', None, None),\n",
       " (6, 'Tabu', 'Tomar', 100, 'Delhi', None, None),\n",
       " (7, 'Gaurav', 'Sirohi', 80, 'Uttam nagar', None, None),\n",
       " (8, 'Monu', None, 72, 'Rajiv chowk', None, None),\n",
       " (9, 'Siddharth', 'jhunjhun wala', 46, 'Malakpur', None, None),\n",
       " (10, 'sameer', 'jhoka', 29, 'Hyderabad', None, None)]"
      ]
     },
     "execution_count": 40,
     "metadata": {},
     "output_type": "execute_result"
    }
   ],
   "source": [
    "cur.execute(\"select * from student\")\n",
    "cur.fetchall()"
   ]
  },
  {
   "cell_type": "code",
   "execution_count": 41,
   "id": "6c2d03a7",
   "metadata": {},
   "outputs": [
    {
     "data": {
      "text/plain": [
       "[(1, 'HCL', 'IT', 30000, '3'),\n",
       " (2, 'Infosis', 'executive', 85000, '2'),\n",
       " (3, 'google', 'software', 70000, '5'),\n",
       " (4, 'facebook', 'tester', 9900, '4'),\n",
       " (5, 'google', 'sales', 72000, '4'),\n",
       " (6, 'TCS', 'engineer', 100000, '1'),\n",
       " (7, 'HDFC', 'Banker', 80000, '6'),\n",
       " (8, 'Motherson', 'designer', 72000, '7'),\n",
       " (9, 'Zee', 'anchor', 46000, '6'),\n",
       " (10, 'sun pharma', 'doctor', 29000, '4'),\n",
       " (20, 'Info', 'exec', 85, '9'),\n",
       " (11, 'goo', 'soft', 70, '5'),\n",
       " (12, 'face', 'tester', 99, '4'),\n",
       " (13, 'goo', 'sal', 72, '4'),\n",
       " (14, 'TCS', 'engi', 10, '1')]"
      ]
     },
     "execution_count": 41,
     "metadata": {},
     "output_type": "execute_result"
    }
   ],
   "source": [
    "cur.execute(\"select * from studentprofession\")\n",
    "cur.fetchall()"
   ]
  },
  {
   "cell_type": "code",
   "execution_count": 42,
   "id": "e86d5276",
   "metadata": {},
   "outputs": [],
   "source": [
    "entiti= [(15,'Info','exec',85,9),(11,'goo','soft',70,5),(12,'face','tester',99,4),(13,'goo','sal',72,4),(14,'TCS','engi',10,1)  ]"
   ]
  },
  {
   "cell_type": "code",
   "execution_count": 43,
   "id": "09c644ac",
   "metadata": {},
   "outputs": [
    {
     "ename": "IntegrityError",
     "evalue": "UNIQUE constraint failed: studentprofession.id",
     "output_type": "error",
     "traceback": [
      "\u001b[1;31m---------------------------------------------------------------------------\u001b[0m",
      "\u001b[1;31mIntegrityError\u001b[0m                            Traceback (most recent call last)",
      "\u001b[1;32m<ipython-input-43-8f8f4f71e936>\u001b[0m in \u001b[0;36m<module>\u001b[1;34m\u001b[0m\n\u001b[1;32m----> 1\u001b[1;33m \u001b[0mcur\u001b[0m\u001b[1;33m.\u001b[0m\u001b[0mexecutemany\u001b[0m\u001b[1;33m(\u001b[0m\u001b[1;34m\"insert into studentprofession values (?,?,?,?,?)\"\u001b[0m\u001b[1;33m,\u001b[0m\u001b[0mentiti\u001b[0m\u001b[1;33m)\u001b[0m\u001b[1;33m\u001b[0m\u001b[1;33m\u001b[0m\u001b[0m\n\u001b[0m",
      "\u001b[1;31mIntegrityError\u001b[0m: UNIQUE constraint failed: studentprofession.id"
     ]
    }
   ],
   "source": [
    "cur.executemany(\"insert into studentprofession values (?,?,?,?,?)\",entiti)"
   ]
  },
  {
   "cell_type": "code",
   "execution_count": 44,
   "id": "6771fe64",
   "metadata": {},
   "outputs": [
    {
     "data": {
      "text/plain": [
       "[(1, 'HCL', 'IT', 30000, '3'),\n",
       " (2, 'Infosis', 'executive', 85000, '2'),\n",
       " (3, 'google', 'software', 70000, '5'),\n",
       " (4, 'facebook', 'tester', 9900, '4'),\n",
       " (5, 'google', 'sales', 72000, '4'),\n",
       " (6, 'TCS', 'engineer', 100000, '1'),\n",
       " (7, 'HDFC', 'Banker', 80000, '6'),\n",
       " (8, 'Motherson', 'designer', 72000, '7'),\n",
       " (9, 'Zee', 'anchor', 46000, '6'),\n",
       " (10, 'sun pharma', 'doctor', 29000, '4'),\n",
       " (20, 'Info', 'exec', 85, '9'),\n",
       " (11, 'goo', 'soft', 70, '5'),\n",
       " (12, 'face', 'tester', 99, '4'),\n",
       " (13, 'goo', 'sal', 72, '4'),\n",
       " (14, 'TCS', 'engi', 10, '1'),\n",
       " (15, 'Info', 'exec', 85, '9')]"
      ]
     },
     "execution_count": 44,
     "metadata": {},
     "output_type": "execute_result"
    }
   ],
   "source": [
    "cur.execute(\"select * from studentprofession\")\n",
    "cur.fetchall()"
   ]
  },
  {
   "cell_type": "markdown",
   "id": "75c36ccb",
   "metadata": {},
   "source": [
    "# JOIN  -    it help in retrieving data from two or more database tables."
   ]
  },
  {
   "cell_type": "code",
   "execution_count": 45,
   "id": "7b19c489",
   "metadata": {},
   "outputs": [],
   "source": [
    "# Now we have 2 tables  student and studentprofession\n",
    "\n",
    "# INNER JOIN\n"
   ]
  },
  {
   "cell_type": "code",
   "execution_count": 46,
   "id": "415de0d4",
   "metadata": {},
   "outputs": [
    {
     "data": {
      "text/plain": [
       "[('Mohit', 30000),\n",
       " ('Swati', 85000),\n",
       " ('Ajay', 70000),\n",
       " ('Rakesh', 9900),\n",
       " ('Monika', 72000),\n",
       " ('Tabu', 100000),\n",
       " ('Gaurav', 80000),\n",
       " ('Monu', 72000),\n",
       " ('Siddharth', 46000),\n",
       " ('sameer', 29000)]"
      ]
     },
     "execution_count": 46,
     "metadata": {},
     "output_type": "execute_result"
    }
   ],
   "source": [
    "sql=\"select s.firstname, c.salary from student as s join studentprofession as c on s.id = c.id\"\n",
    "\n",
    "sql_query(sql)"
   ]
  },
  {
   "cell_type": "code",
   "execution_count": 47,
   "id": "5bfca651",
   "metadata": {},
   "outputs": [
    {
     "data": {
      "text/plain": [
       "[('Mohit', 30000),\n",
       " ('Swati', 85000),\n",
       " ('Ajay', 70000),\n",
       " ('Rakesh', 9900),\n",
       " ('Monika', 72000),\n",
       " ('Tabu', 100000),\n",
       " ('Gaurav', 80000),\n",
       " ('Monu', 72000),\n",
       " ('Siddharth', 46000),\n",
       " ('sameer', 29000),\n",
       " (None, 85),\n",
       " (None, 70),\n",
       " (None, 99),\n",
       " (None, 72),\n",
       " (None, 10),\n",
       " (None, 85)]"
      ]
     },
     "execution_count": 47,
     "metadata": {},
     "output_type": "execute_result"
    }
   ],
   "source": [
    "# Left Join\n",
    "\n",
    "sql=\"select s.firstname, c.salary from studentprofession as c left join student as s on s.id = c.id\"\n",
    "\n",
    "sql_query(sql)"
   ]
  },
  {
   "cell_type": "code",
   "execution_count": 48,
   "id": "583ec492",
   "metadata": {},
   "outputs": [],
   "source": [
    "#  Drop\n",
    "\n",
    "# sql= 'delete from student where id=4'\n",
    "# sql= drop table name\n",
    "# drop database name"
   ]
  },
  {
   "cell_type": "code",
   "execution_count": 49,
   "id": "c254b7fb",
   "metadata": {},
   "outputs": [],
   "source": [
    "d=sqlite3.connect('tt.db')\n",
    "c=d.cursor()\n",
    "\n",
    "#c.execute(\"drop database tt.db\")  in sqlite, have to manually ddlete database"
   ]
  },
  {
   "cell_type": "code",
   "execution_count": 50,
   "id": "56d43fa0",
   "metadata": {},
   "outputs": [
    {
     "ename": "OperationalError",
     "evalue": "near \"desc\": syntax error",
     "output_type": "error",
     "traceback": [
      "\u001b[1;31m---------------------------------------------------------------------------\u001b[0m",
      "\u001b[1;31mOperationalError\u001b[0m                          Traceback (most recent call last)",
      "\u001b[1;32m<ipython-input-50-75bfeea5783b>\u001b[0m in \u001b[0;36m<module>\u001b[1;34m\u001b[0m\n\u001b[0;32m      1\u001b[0m \u001b[0msql\u001b[0m\u001b[1;33m=\u001b[0m\u001b[1;34m\"desc student\"\u001b[0m\u001b[1;33m\u001b[0m\u001b[1;33m\u001b[0m\u001b[0m\n\u001b[0;32m      2\u001b[0m \u001b[1;33m\u001b[0m\u001b[0m\n\u001b[1;32m----> 3\u001b[1;33m \u001b[0msql_query\u001b[0m\u001b[1;33m(\u001b[0m\u001b[0msql\u001b[0m\u001b[1;33m)\u001b[0m\u001b[1;33m\u001b[0m\u001b[1;33m\u001b[0m\u001b[0m\n\u001b[0m",
      "\u001b[1;32m<ipython-input-16-0afb28896144>\u001b[0m in \u001b[0;36msql_query\u001b[1;34m(sql)\u001b[0m\n\u001b[0;32m      2\u001b[0m \u001b[1;33m\u001b[0m\u001b[0m\n\u001b[0;32m      3\u001b[0m \u001b[1;32mdef\u001b[0m \u001b[0msql_query\u001b[0m\u001b[1;33m(\u001b[0m\u001b[0msql\u001b[0m\u001b[1;33m)\u001b[0m\u001b[1;33m:\u001b[0m\u001b[1;33m\u001b[0m\u001b[1;33m\u001b[0m\u001b[0m\n\u001b[1;32m----> 4\u001b[1;33m     \u001b[0mcur\u001b[0m\u001b[1;33m.\u001b[0m\u001b[0mexecute\u001b[0m\u001b[1;33m(\u001b[0m\u001b[0msql\u001b[0m\u001b[1;33m)\u001b[0m\u001b[1;33m\u001b[0m\u001b[1;33m\u001b[0m\u001b[0m\n\u001b[0m\u001b[0;32m      5\u001b[0m     \u001b[1;32mreturn\u001b[0m \u001b[0mcur\u001b[0m\u001b[1;33m.\u001b[0m\u001b[0mfetchall\u001b[0m\u001b[1;33m(\u001b[0m\u001b[1;33m)\u001b[0m\u001b[1;33m\u001b[0m\u001b[1;33m\u001b[0m\u001b[0m\n\u001b[0;32m      6\u001b[0m \u001b[1;33m\u001b[0m\u001b[0m\n",
      "\u001b[1;31mOperationalError\u001b[0m: near \"desc\": syntax error"
     ]
    }
   ],
   "source": [
    "sql=\"desc student\"\n",
    "\n",
    "sql_query(sql)"
   ]
  },
  {
   "cell_type": "code",
   "execution_count": 51,
   "id": "466e073e",
   "metadata": {},
   "outputs": [
    {
     "data": {
      "text/plain": [
       "[(8, 'Monu', None, 72, 'Rajiv chowk', None, None)]"
      ]
     },
     "execution_count": 51,
     "metadata": {},
     "output_type": "execute_result"
    }
   ],
   "source": [
    "# IS NULL    and IS NOT NULL\n",
    "\n",
    "sql=\"select * from student where secondname is null\"\n",
    "\n",
    "sql_query(sql)"
   ]
  },
  {
   "cell_type": "code",
   "execution_count": 52,
   "id": "96684178",
   "metadata": {},
   "outputs": [
    {
     "data": {
      "text/plain": [
       "[(1, 'Mohit', 'Tomar', 60, 'Delhi', None, None),\n",
       " (2, 'Swati', 'Tomar', 85, 'sydney', None, None),\n",
       " (3, 'Ajay', 'Panwar', 85, 'Laxmi Nagar', None, None),\n",
       " (4, 'Rakesh', 'Devi', 99, 'Uttaranchal', None, None),\n",
       " (5, 'Monika', 'Goliyan', 90, 'Gurgaon', None, None),\n",
       " (6, 'Tabu', 'Tomar', 100, 'Delhi', None, None),\n",
       " (7, 'Gaurav', 'Sirohi', 80, 'Uttam nagar', None, None),\n",
       " (9, 'Siddharth', 'jhunjhun wala', 46, 'Malakpur', None, None),\n",
       " (10, 'sameer', 'jhoka', 29, 'Hyderabad', None, None)]"
      ]
     },
     "execution_count": 52,
     "metadata": {},
     "output_type": "execute_result"
    }
   ],
   "source": [
    "sql=\"select * from student where secondname is not null\"\n",
    "\n",
    "sql_query(sql)"
   ]
  },
  {
   "cell_type": "code",
   "execution_count": 53,
   "id": "889d1af8",
   "metadata": {},
   "outputs": [
    {
     "ename": "IntegrityError",
     "evalue": "UNIQUE constraint failed: studentprofession.id",
     "output_type": "error",
     "traceback": [
      "\u001b[1;31m---------------------------------------------------------------------------\u001b[0m",
      "\u001b[1;31mIntegrityError\u001b[0m                            Traceback (most recent call last)",
      "\u001b[1;32m<ipython-input-53-7a66f4878c34>\u001b[0m in \u001b[0;36m<module>\u001b[1;34m\u001b[0m\n\u001b[0;32m      3\u001b[0m \u001b[0msql\u001b[0m\u001b[1;33m=\u001b[0m\u001b[1;34m\"update studentprofession set id=20 where id=15\"\u001b[0m\u001b[1;33m\u001b[0m\u001b[1;33m\u001b[0m\u001b[0m\n\u001b[0;32m      4\u001b[0m \u001b[1;33m\u001b[0m\u001b[0m\n\u001b[1;32m----> 5\u001b[1;33m \u001b[0msql_query\u001b[0m\u001b[1;33m(\u001b[0m\u001b[0msql\u001b[0m\u001b[1;33m)\u001b[0m\u001b[1;33m\u001b[0m\u001b[1;33m\u001b[0m\u001b[0m\n\u001b[0m",
      "\u001b[1;32m<ipython-input-16-0afb28896144>\u001b[0m in \u001b[0;36msql_query\u001b[1;34m(sql)\u001b[0m\n\u001b[0;32m      2\u001b[0m \u001b[1;33m\u001b[0m\u001b[0m\n\u001b[0;32m      3\u001b[0m \u001b[1;32mdef\u001b[0m \u001b[0msql_query\u001b[0m\u001b[1;33m(\u001b[0m\u001b[0msql\u001b[0m\u001b[1;33m)\u001b[0m\u001b[1;33m:\u001b[0m\u001b[1;33m\u001b[0m\u001b[1;33m\u001b[0m\u001b[0m\n\u001b[1;32m----> 4\u001b[1;33m     \u001b[0mcur\u001b[0m\u001b[1;33m.\u001b[0m\u001b[0mexecute\u001b[0m\u001b[1;33m(\u001b[0m\u001b[0msql\u001b[0m\u001b[1;33m)\u001b[0m\u001b[1;33m\u001b[0m\u001b[1;33m\u001b[0m\u001b[0m\n\u001b[0m\u001b[0;32m      5\u001b[0m     \u001b[1;32mreturn\u001b[0m \u001b[0mcur\u001b[0m\u001b[1;33m.\u001b[0m\u001b[0mfetchall\u001b[0m\u001b[1;33m(\u001b[0m\u001b[1;33m)\u001b[0m\u001b[1;33m\u001b[0m\u001b[1;33m\u001b[0m\u001b[0m\n\u001b[0;32m      6\u001b[0m \u001b[1;33m\u001b[0m\u001b[0m\n",
      "\u001b[1;31mIntegrityError\u001b[0m: UNIQUE constraint failed: studentprofession.id"
     ]
    }
   ],
   "source": [
    "# UPDATE statement\n",
    "\n",
    "sql=\"update studentprofession set id=20 where id=15\"\n",
    "\n",
    "sql_query(sql)"
   ]
  },
  {
   "cell_type": "code",
   "execution_count": 54,
   "id": "5c08afe2",
   "metadata": {},
   "outputs": [
    {
     "data": {
      "text/plain": [
       "[(1, 'HCL', 'IT', 30000, '3'),\n",
       " (2, 'Infosis', 'executive', 85000, '2'),\n",
       " (3, 'google', 'software', 70000, '5'),\n",
       " (4, 'facebook', 'tester', 9900, '4'),\n",
       " (5, 'google', 'sales', 72000, '4'),\n",
       " (6, 'TCS', 'engineer', 100000, '1'),\n",
       " (7, 'HDFC', 'Banker', 80000, '6'),\n",
       " (8, 'Motherson', 'designer', 72000, '7'),\n",
       " (9, 'Zee', 'anchor', 46000, '6'),\n",
       " (10, 'sun pharma', 'doctor', 29000, '4'),\n",
       " (20, 'Info', 'exec', 85, '9'),\n",
       " (11, 'goo', 'soft', 70, '5'),\n",
       " (12, 'face', 'tester', 99, '4'),\n",
       " (13, 'goo', 'sal', 72, '4'),\n",
       " (14, 'TCS', 'engi', 10, '1'),\n",
       " (15, 'Info', 'exec', 85, '9')]"
      ]
     },
     "execution_count": 54,
     "metadata": {},
     "output_type": "execute_result"
    }
   ],
   "source": [
    "sql=\"select * from studentprofession\"\n",
    "\n",
    "sql_query(sql)"
   ]
  },
  {
   "cell_type": "code",
   "execution_count": 55,
   "id": "e21e52ea",
   "metadata": {},
   "outputs": [
    {
     "data": {
      "text/plain": [
       "[]"
      ]
     },
     "execution_count": 55,
     "metadata": {},
     "output_type": "execute_result"
    }
   ],
   "source": [
    "sql=\"update student set secondname=NULL where firstname='Monu'\"\n",
    "\n",
    "sql_query(sql)"
   ]
  },
  {
   "cell_type": "code",
   "execution_count": 56,
   "id": "5f55e74a",
   "metadata": {},
   "outputs": [
    {
     "data": {
      "text/plain": [
       "[(1, 'Mohit', 'Tomar', 60, 'Delhi', None, None),\n",
       " (2, 'Swati', 'Tomar', 85, 'sydney', None, None),\n",
       " (3, 'Ajay', 'Panwar', 85, 'Laxmi Nagar', None, None),\n",
       " (4, 'Rakesh', 'Devi', 99, 'Uttaranchal', None, None),\n",
       " (5, 'Monika', 'Goliyan', 90, 'Gurgaon', None, None),\n",
       " (6, 'Tabu', 'Tomar', 100, 'Delhi', None, None),\n",
       " (7, 'Gaurav', 'Sirohi', 80, 'Uttam nagar', None, None),\n",
       " (8, 'Monu', None, 72, 'Rajiv chowk', None, None),\n",
       " (9, 'Siddharth', 'jhunjhun wala', 46, 'Malakpur', None, None),\n",
       " (10, 'sameer', 'jhoka', 29, 'Hyderabad', None, None)]"
      ]
     },
     "execution_count": 56,
     "metadata": {},
     "output_type": "execute_result"
    }
   ],
   "source": [
    "sql=\"select * from student\"\n",
    "\n",
    "sql_query(sql)"
   ]
  },
  {
   "cell_type": "markdown",
   "id": "f26c5b44",
   "metadata": {},
   "source": [
    "# Alter Table"
   ]
  },
  {
   "cell_type": "code",
   "execution_count": 57,
   "id": "156390e4",
   "metadata": {},
   "outputs": [
    {
     "ename": "OperationalError",
     "evalue": "duplicate column name: email",
     "output_type": "error",
     "traceback": [
      "\u001b[1;31m---------------------------------------------------------------------------\u001b[0m",
      "\u001b[1;31mOperationalError\u001b[0m                          Traceback (most recent call last)",
      "\u001b[1;32m<ipython-input-57-1bfe9f0b5019>\u001b[0m in \u001b[0;36m<module>\u001b[1;34m\u001b[0m\n\u001b[0;32m      1\u001b[0m \u001b[0msql\u001b[0m\u001b[1;33m=\u001b[0m\u001b[1;34m\"alter table student add email varchar(30)\"\u001b[0m\u001b[1;33m\u001b[0m\u001b[1;33m\u001b[0m\u001b[0m\n\u001b[0;32m      2\u001b[0m \u001b[1;33m\u001b[0m\u001b[0m\n\u001b[1;32m----> 3\u001b[1;33m \u001b[0msql_query\u001b[0m\u001b[1;33m(\u001b[0m\u001b[0msql\u001b[0m\u001b[1;33m)\u001b[0m\u001b[1;33m\u001b[0m\u001b[1;33m\u001b[0m\u001b[0m\n\u001b[0m",
      "\u001b[1;32m<ipython-input-16-0afb28896144>\u001b[0m in \u001b[0;36msql_query\u001b[1;34m(sql)\u001b[0m\n\u001b[0;32m      2\u001b[0m \u001b[1;33m\u001b[0m\u001b[0m\n\u001b[0;32m      3\u001b[0m \u001b[1;32mdef\u001b[0m \u001b[0msql_query\u001b[0m\u001b[1;33m(\u001b[0m\u001b[0msql\u001b[0m\u001b[1;33m)\u001b[0m\u001b[1;33m:\u001b[0m\u001b[1;33m\u001b[0m\u001b[1;33m\u001b[0m\u001b[0m\n\u001b[1;32m----> 4\u001b[1;33m     \u001b[0mcur\u001b[0m\u001b[1;33m.\u001b[0m\u001b[0mexecute\u001b[0m\u001b[1;33m(\u001b[0m\u001b[0msql\u001b[0m\u001b[1;33m)\u001b[0m\u001b[1;33m\u001b[0m\u001b[1;33m\u001b[0m\u001b[0m\n\u001b[0m\u001b[0;32m      5\u001b[0m     \u001b[1;32mreturn\u001b[0m \u001b[0mcur\u001b[0m\u001b[1;33m.\u001b[0m\u001b[0mfetchall\u001b[0m\u001b[1;33m(\u001b[0m\u001b[1;33m)\u001b[0m\u001b[1;33m\u001b[0m\u001b[1;33m\u001b[0m\u001b[0m\n\u001b[0;32m      6\u001b[0m \u001b[1;33m\u001b[0m\u001b[0m\n",
      "\u001b[1;31mOperationalError\u001b[0m: duplicate column name: email"
     ]
    }
   ],
   "source": [
    "sql=\"alter table student add email varchar(30)\"\n",
    "\n",
    "sql_query(sql)\n"
   ]
  },
  {
   "cell_type": "code",
   "execution_count": 58,
   "id": "22e51995",
   "metadata": {},
   "outputs": [
    {
     "data": {
      "text/plain": [
       "[(1, 'Mohit', 'Tomar', 60, 'Delhi', None, None),\n",
       " (2, 'Swati', 'Tomar', 85, 'sydney', None, None),\n",
       " (3, 'Ajay', 'Panwar', 85, 'Laxmi Nagar', None, None),\n",
       " (4, 'Rakesh', 'Devi', 99, 'Uttaranchal', None, None),\n",
       " (5, 'Monika', 'Goliyan', 90, 'Gurgaon', None, None),\n",
       " (6, 'Tabu', 'Tomar', 100, 'Delhi', None, None),\n",
       " (7, 'Gaurav', 'Sirohi', 80, 'Uttam nagar', None, None),\n",
       " (8, 'Monu', None, 72, 'Rajiv chowk', None, None),\n",
       " (9, 'Siddharth', 'jhunjhun wala', 46, 'Malakpur', None, None),\n",
       " (10, 'sameer', 'jhoka', 29, 'Hyderabad', None, None)]"
      ]
     },
     "execution_count": 58,
     "metadata": {},
     "output_type": "execute_result"
    }
   ],
   "source": [
    "sql=\"select * from student\"\n",
    "\n",
    "sql_query(sql)"
   ]
  },
  {
   "cell_type": "code",
   "execution_count": 59,
   "id": "86d9fcd1",
   "metadata": {},
   "outputs": [
    {
     "ename": "OperationalError",
     "evalue": "duplicate column name: dob",
     "output_type": "error",
     "traceback": [
      "\u001b[1;31m---------------------------------------------------------------------------\u001b[0m",
      "\u001b[1;31mOperationalError\u001b[0m                          Traceback (most recent call last)",
      "\u001b[1;32m<ipython-input-59-2274f452c1c0>\u001b[0m in \u001b[0;36m<module>\u001b[1;34m\u001b[0m\n\u001b[0;32m      3\u001b[0m \u001b[0msql\u001b[0m\u001b[1;33m=\u001b[0m\u001b[1;34m\"alter table student add column dob date\"\u001b[0m\u001b[1;33m\u001b[0m\u001b[1;33m\u001b[0m\u001b[0m\n\u001b[0;32m      4\u001b[0m \u001b[1;33m\u001b[0m\u001b[0m\n\u001b[1;32m----> 5\u001b[1;33m \u001b[0msql_query\u001b[0m\u001b[1;33m(\u001b[0m\u001b[0msql\u001b[0m\u001b[1;33m)\u001b[0m\u001b[1;33m\u001b[0m\u001b[1;33m\u001b[0m\u001b[0m\n\u001b[0m",
      "\u001b[1;32m<ipython-input-16-0afb28896144>\u001b[0m in \u001b[0;36msql_query\u001b[1;34m(sql)\u001b[0m\n\u001b[0;32m      2\u001b[0m \u001b[1;33m\u001b[0m\u001b[0m\n\u001b[0;32m      3\u001b[0m \u001b[1;32mdef\u001b[0m \u001b[0msql_query\u001b[0m\u001b[1;33m(\u001b[0m\u001b[0msql\u001b[0m\u001b[1;33m)\u001b[0m\u001b[1;33m:\u001b[0m\u001b[1;33m\u001b[0m\u001b[1;33m\u001b[0m\u001b[0m\n\u001b[1;32m----> 4\u001b[1;33m     \u001b[0mcur\u001b[0m\u001b[1;33m.\u001b[0m\u001b[0mexecute\u001b[0m\u001b[1;33m(\u001b[0m\u001b[0msql\u001b[0m\u001b[1;33m)\u001b[0m\u001b[1;33m\u001b[0m\u001b[1;33m\u001b[0m\u001b[0m\n\u001b[0m\u001b[0;32m      5\u001b[0m     \u001b[1;32mreturn\u001b[0m \u001b[0mcur\u001b[0m\u001b[1;33m.\u001b[0m\u001b[0mfetchall\u001b[0m\u001b[1;33m(\u001b[0m\u001b[1;33m)\u001b[0m\u001b[1;33m\u001b[0m\u001b[1;33m\u001b[0m\u001b[0m\n\u001b[0;32m      6\u001b[0m \u001b[1;33m\u001b[0m\u001b[0m\n",
      "\u001b[1;31mOperationalError\u001b[0m: duplicate column name: dob"
     ]
    }
   ],
   "source": [
    "# modify column\n",
    "\n",
    "sql=\"alter table student add column dob date\"\n",
    "\n",
    "sql_query(sql)"
   ]
  },
  {
   "cell_type": "code",
   "execution_count": 60,
   "id": "108d4109",
   "metadata": {},
   "outputs": [
    {
     "data": {
      "text/plain": [
       "[(1, 'Mohit', 'Tomar', 60, 'Delhi', None, None),\n",
       " (2, 'Swati', 'Tomar', 85, 'sydney', None, None),\n",
       " (3, 'Ajay', 'Panwar', 85, 'Laxmi Nagar', None, None),\n",
       " (4, 'Rakesh', 'Devi', 99, 'Uttaranchal', None, None),\n",
       " (5, 'Monika', 'Goliyan', 90, 'Gurgaon', None, None),\n",
       " (6, 'Tabu', 'Tomar', 100, 'Delhi', None, None),\n",
       " (7, 'Gaurav', 'Sirohi', 80, 'Uttam nagar', None, None),\n",
       " (8, 'Monu', None, 72, 'Rajiv chowk', None, None),\n",
       " (9, 'Siddharth', 'jhunjhun wala', 46, 'Malakpur', None, None),\n",
       " (10, 'sameer', 'jhoka', 29, 'Hyderabad', None, None)]"
      ]
     },
     "execution_count": 60,
     "metadata": {},
     "output_type": "execute_result"
    }
   ],
   "source": [
    "sql=\"select * from student\"\n",
    "\n",
    "sql_query(sql)"
   ]
  },
  {
   "cell_type": "code",
   "execution_count": 61,
   "id": "3122978a",
   "metadata": {},
   "outputs": [
    {
     "ename": "OperationalError",
     "evalue": "near \"modify\": syntax error",
     "output_type": "error",
     "traceback": [
      "\u001b[1;31m---------------------------------------------------------------------------\u001b[0m",
      "\u001b[1;31mOperationalError\u001b[0m                          Traceback (most recent call last)",
      "\u001b[1;32m<ipython-input-61-3a518baabe9a>\u001b[0m in \u001b[0;36m<module>\u001b[1;34m\u001b[0m\n\u001b[0;32m      2\u001b[0m \u001b[0msql\u001b[0m\u001b[1;33m=\u001b[0m\u001b[1;34m\"alter table student modify dob year\"\u001b[0m\u001b[1;33m\u001b[0m\u001b[1;33m\u001b[0m\u001b[0m\n\u001b[0;32m      3\u001b[0m \u001b[1;33m\u001b[0m\u001b[0m\n\u001b[1;32m----> 4\u001b[1;33m \u001b[0msql_query\u001b[0m\u001b[1;33m(\u001b[0m\u001b[0msql\u001b[0m\u001b[1;33m)\u001b[0m\u001b[1;33m\u001b[0m\u001b[1;33m\u001b[0m\u001b[0m\n\u001b[0m\u001b[0;32m      5\u001b[0m \u001b[1;33m\u001b[0m\u001b[0m\n\u001b[0;32m      6\u001b[0m \u001b[1;33m\u001b[0m\u001b[0m\n",
      "\u001b[1;32m<ipython-input-16-0afb28896144>\u001b[0m in \u001b[0;36msql_query\u001b[1;34m(sql)\u001b[0m\n\u001b[0;32m      2\u001b[0m \u001b[1;33m\u001b[0m\u001b[0m\n\u001b[0;32m      3\u001b[0m \u001b[1;32mdef\u001b[0m \u001b[0msql_query\u001b[0m\u001b[1;33m(\u001b[0m\u001b[0msql\u001b[0m\u001b[1;33m)\u001b[0m\u001b[1;33m:\u001b[0m\u001b[1;33m\u001b[0m\u001b[1;33m\u001b[0m\u001b[0m\n\u001b[1;32m----> 4\u001b[1;33m     \u001b[0mcur\u001b[0m\u001b[1;33m.\u001b[0m\u001b[0mexecute\u001b[0m\u001b[1;33m(\u001b[0m\u001b[0msql\u001b[0m\u001b[1;33m)\u001b[0m\u001b[1;33m\u001b[0m\u001b[1;33m\u001b[0m\u001b[0m\n\u001b[0m\u001b[0;32m      5\u001b[0m     \u001b[1;32mreturn\u001b[0m \u001b[0mcur\u001b[0m\u001b[1;33m.\u001b[0m\u001b[0mfetchall\u001b[0m\u001b[1;33m(\u001b[0m\u001b[1;33m)\u001b[0m\u001b[1;33m\u001b[0m\u001b[1;33m\u001b[0m\u001b[0m\n\u001b[0;32m      6\u001b[0m \u001b[1;33m\u001b[0m\u001b[0m\n",
      "\u001b[1;31mOperationalError\u001b[0m: near \"modify\": syntax error"
     ]
    }
   ],
   "source": [
    "# modify column datatype\n",
    "sql=\"alter table student modify dob year\"\n",
    "\n",
    "sql_query(sql)\n",
    "\n",
    "\n",
    "\n"
   ]
  },
  {
   "cell_type": "code",
   "execution_count": 62,
   "id": "672ce6a3",
   "metadata": {},
   "outputs": [
    {
     "data": {
      "text/plain": [
       "[(1, 'Mohit', 'Tomar', 60, 'Delhi', None, None),\n",
       " (2, 'Swati', 'Tomar', 85, 'sydney', None, None),\n",
       " (3, 'Ajay', 'Panwar', 85, 'Laxmi Nagar', None, None),\n",
       " (4, 'Rakesh', 'Devi', 99, 'Uttaranchal', None, None),\n",
       " (5, 'Monika', 'Goliyan', 90, 'Gurgaon', None, None),\n",
       " (6, 'Tabu', 'Tomar', 100, 'Delhi', None, None),\n",
       " (7, 'Gaurav', 'Sirohi', 80, 'Uttam nagar', None, None),\n",
       " (8, 'Monu', None, 72, 'Rajiv chowk', None, None),\n",
       " (9, 'Siddharth', 'jhunjhun wala', 46, 'Malakpur', None, None),\n",
       " (10, 'sameer', 'jhoka', 29, 'Hyderabad', None, None)]"
      ]
     },
     "execution_count": 62,
     "metadata": {},
     "output_type": "execute_result"
    }
   ],
   "source": [
    "sql=\"select * from student\"\n",
    "\n",
    "sql_query(sql)"
   ]
  },
  {
   "cell_type": "code",
   "execution_count": 63,
   "id": "dabcfd92",
   "metadata": {},
   "outputs": [],
   "source": [
    "\n",
    "db.commit()"
   ]
  },
  {
   "cell_type": "code",
   "execution_count": 64,
   "id": "e9280519",
   "metadata": {},
   "outputs": [
    {
     "data": {
      "text/plain": [
       "[]"
      ]
     },
     "execution_count": 64,
     "metadata": {},
     "output_type": "execute_result"
    }
   ],
   "source": [
    "# fill last columns\n",
    "\n",
    "sql=\"update student set email='mohit@google.com' where id=1\"\n",
    "\n",
    "sql_query(sql)"
   ]
  },
  {
   "cell_type": "code",
   "execution_count": 65,
   "id": "eebc9c6d",
   "metadata": {},
   "outputs": [
    {
     "data": {
      "text/plain": [
       "[(1, 'Mohit', 'Tomar', 60, 'Delhi', 'mohit@google.com', None),\n",
       " (2, 'Swati', 'Tomar', 85, 'sydney', None, None),\n",
       " (3, 'Ajay', 'Panwar', 85, 'Laxmi Nagar', None, None),\n",
       " (4, 'Rakesh', 'Devi', 99, 'Uttaranchal', None, None),\n",
       " (5, 'Monika', 'Goliyan', 90, 'Gurgaon', None, None),\n",
       " (6, 'Tabu', 'Tomar', 100, 'Delhi', None, None),\n",
       " (7, 'Gaurav', 'Sirohi', 80, 'Uttam nagar', None, None),\n",
       " (8, 'Monu', None, 72, 'Rajiv chowk', None, None),\n",
       " (9, 'Siddharth', 'jhunjhun wala', 46, 'Malakpur', None, None),\n",
       " (10, 'sameer', 'jhoka', 29, 'Hyderabad', None, None)]"
      ]
     },
     "execution_count": 65,
     "metadata": {},
     "output_type": "execute_result"
    }
   ],
   "source": [
    "sql=\"select * from student\"\n",
    "\n",
    "sql_query(sql)"
   ]
  },
  {
   "cell_type": "code",
   "execution_count": 66,
   "id": "7e37f099",
   "metadata": {},
   "outputs": [
    {
     "ename": "OperationalError",
     "evalue": "near \"alter\": syntax error",
     "output_type": "error",
     "traceback": [
      "\u001b[1;31m---------------------------------------------------------------------------\u001b[0m",
      "\u001b[1;31mOperationalError\u001b[0m                          Traceback (most recent call last)",
      "\u001b[1;32m<ipython-input-66-d2da9d3d11d1>\u001b[0m in \u001b[0;36m<module>\u001b[1;34m\u001b[0m\n\u001b[0;32m      3\u001b[0m \u001b[0msql\u001b[0m\u001b[1;33m=\u001b[0m\u001b[1;34m\"alter table student alter email set default 'xyz@google.com'\"\u001b[0m\u001b[1;33m\u001b[0m\u001b[1;33m\u001b[0m\u001b[0m\n\u001b[0;32m      4\u001b[0m \u001b[1;33m\u001b[0m\u001b[0m\n\u001b[1;32m----> 5\u001b[1;33m \u001b[0msql_query\u001b[0m\u001b[1;33m(\u001b[0m\u001b[0msql\u001b[0m\u001b[1;33m)\u001b[0m\u001b[1;33m\u001b[0m\u001b[1;33m\u001b[0m\u001b[0m\n\u001b[0m",
      "\u001b[1;32m<ipython-input-16-0afb28896144>\u001b[0m in \u001b[0;36msql_query\u001b[1;34m(sql)\u001b[0m\n\u001b[0;32m      2\u001b[0m \u001b[1;33m\u001b[0m\u001b[0m\n\u001b[0;32m      3\u001b[0m \u001b[1;32mdef\u001b[0m \u001b[0msql_query\u001b[0m\u001b[1;33m(\u001b[0m\u001b[0msql\u001b[0m\u001b[1;33m)\u001b[0m\u001b[1;33m:\u001b[0m\u001b[1;33m\u001b[0m\u001b[1;33m\u001b[0m\u001b[0m\n\u001b[1;32m----> 4\u001b[1;33m     \u001b[0mcur\u001b[0m\u001b[1;33m.\u001b[0m\u001b[0mexecute\u001b[0m\u001b[1;33m(\u001b[0m\u001b[0msql\u001b[0m\u001b[1;33m)\u001b[0m\u001b[1;33m\u001b[0m\u001b[1;33m\u001b[0m\u001b[0m\n\u001b[0m\u001b[0;32m      5\u001b[0m     \u001b[1;32mreturn\u001b[0m \u001b[0mcur\u001b[0m\u001b[1;33m.\u001b[0m\u001b[0mfetchall\u001b[0m\u001b[1;33m(\u001b[0m\u001b[1;33m)\u001b[0m\u001b[1;33m\u001b[0m\u001b[1;33m\u001b[0m\u001b[0m\n\u001b[0;32m      6\u001b[0m \u001b[1;33m\u001b[0m\u001b[0m\n",
      "\u001b[1;31mOperationalError\u001b[0m: near \"alter\": syntax error"
     ]
    }
   ],
   "source": [
    "# Default constraint\n",
    "\n",
    "sql=\"alter table student alter email set default 'xyz@google.com'\"\n",
    "\n",
    "sql_query(sql)"
   ]
  },
  {
   "cell_type": "code",
   "execution_count": 69,
   "id": "8b78ac1a",
   "metadata": {},
   "outputs": [
    {
     "data": {
      "text/plain": [
       "[]"
      ]
     },
     "execution_count": 69,
     "metadata": {},
     "output_type": "execute_result"
    }
   ],
   "source": [
    "#Index\n",
    "\n",
    "sql=\"create view coo as select id, firstname,secondname from student\"\n",
    "\n",
    "sql_query(sql)"
   ]
  },
  {
   "cell_type": "code",
   "execution_count": 70,
   "id": "b009daee",
   "metadata": {},
   "outputs": [
    {
     "data": {
      "text/plain": [
       "[(1, 'Mohit', 'Tomar'),\n",
       " (2, 'Swati', 'Tomar'),\n",
       " (3, 'Ajay', 'Panwar'),\n",
       " (4, 'Rakesh', 'Devi'),\n",
       " (5, 'Monika', 'Goliyan'),\n",
       " (6, 'Tabu', 'Tomar'),\n",
       " (7, 'Gaurav', 'Sirohi'),\n",
       " (8, 'Monu', None),\n",
       " (9, 'Siddharth', 'jhunjhun wala'),\n",
       " (10, 'sameer', 'jhoka')]"
      ]
     },
     "execution_count": 70,
     "metadata": {},
     "output_type": "execute_result"
    }
   ],
   "source": [
    "sql=\"select * from coo\"\n",
    "\n",
    "sql_query(sql)"
   ]
  },
  {
   "cell_type": "code",
   "execution_count": null,
   "id": "8f4b3f31",
   "metadata": {},
   "outputs": [],
   "source": []
  }
 ],
 "metadata": {
  "kernelspec": {
   "display_name": "Python 3",
   "language": "python",
   "name": "python3"
  },
  "language_info": {
   "codemirror_mode": {
    "name": "ipython",
    "version": 3
   },
   "file_extension": ".py",
   "mimetype": "text/x-python",
   "name": "python",
   "nbconvert_exporter": "python",
   "pygments_lexer": "ipython3",
   "version": "3.8.8"
  }
 },
 "nbformat": 4,
 "nbformat_minor": 5
}
